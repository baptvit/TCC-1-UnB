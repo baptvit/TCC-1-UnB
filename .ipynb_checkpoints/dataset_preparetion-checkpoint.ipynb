{
 "cells": [
  {
   "cell_type": "code",
   "execution_count": null,
   "metadata": {
    "colab": {},
    "colab_type": "code",
    "id": "MrWdNUPPIizf"
   },
   "outputs": [],
   "source": [
    "import warnings\n",
    "warnings.simplefilter(action='ignore', category=FutureWarning)\n",
    "\n",
    "import os\n",
    "import glob\n",
    "import argparse\n",
    "import random\n",
    "import numpy as np\n",
    "import lmdb\n",
    "import cv2\n",
    "import pickle\n",
    "import caffe\n",
    "from caffe.proto import caffe_pb2\n",
    "from time import time\n",
    "from sklearn.model_selection import train_test_split"
   ]
  },
  {
   "cell_type": "code",
   "execution_count": null,
   "metadata": {
    "colab": {
     "base_uri": "https://localhost:8080/",
     "height": 1000
    },
    "colab_type": "code",
    "id": "fzgXJzqWIxCL",
    "outputId": "78cffa13-ccc0-4abe-d148-1bb780a0f799"
   },
   "outputs": [],
   "source": [
    "!apt-get install -y caffe-cpu"
   ]
  },
  {
   "cell_type": "markdown",
   "metadata": {
    "colab_type": "text",
    "id": "HMejrfUMK3XM"
   },
   "source": [
    "## Directory parser for file .py"
   ]
  },
  {
   "cell_type": "code",
   "execution_count": 0,
   "metadata": {
    "colab": {},
    "colab_type": "code",
    "id": "gUURJoXKJNZC"
   },
   "outputs": [],
   "source": [
    "# ap = argparse.ArgumentParser()\n",
    "# ap.add_argument('-p', '--path', required=True, help='Path to dataset directory')\n",
    "# args = vars(ap.parse_args())"
   ]
  },
  {
   "cell_type": "markdown",
   "metadata": {
    "colab_type": "text",
    "id": "ePbCtYUMLhQ6"
   },
   "source": [
    "## Default imagem size for resnet architecture "
   ]
  },
  {
   "cell_type": "code",
   "execution_count": 0,
   "metadata": {
    "colab": {},
    "colab_type": "code",
    "id": "uMQE9HVnLSQp"
   },
   "outputs": [],
   "source": [
    "IMAGE_WIDTH = 224\n",
    "IMAGE_HEIGHT = 224"
   ]
  },
  {
   "cell_type": "code",
   "execution_count": 0,
   "metadata": {
    "colab": {},
    "colab_type": "code",
    "id": "ohilP7gyL9WO"
   },
   "outputs": [],
   "source": [
    "def transform_img(img, img_width=IMAGE_WIDTH, img_height=IMAGE_HEIGHT, equalize=False):\n",
    "  \"\"\"Function that resize an image and equalize it if necessary.\"\"\"\n",
    "  if equalize:\n",
    "    # Histogram Equalization\n",
    "    img[:, :, 0] = cv2.equalizeHist(img[:, :, 0])\n",
    "    img[:, :, 1] = cv2.equalizeHist(img[:, :, 1])\n",
    "    img[:, :, 2] = cv2.equalizeHist(img[:, :, 2])\n",
    "    \n",
    "  # Image Resizing\n",
    "  img = cv2.resize(img, (img_width, img_height), interpolation=cv2.INTER_CUBIC)\n",
    "  \n",
    "  return img"
   ]
  },
  {
   "cell_type": "code",
   "execution_count": 0,
   "metadata": {
    "colab": {},
    "colab_type": "code",
    "id": "wktf4X4lNIDx"
   },
   "outputs": [],
   "source": [
    "def make_datum(img, label):\n",
    "  # Image is numpy.ndarray format. BGR instead of RGB\n",
    "  return caffe_pb2.Datum(channels=3,\n",
    "                         width=IMAGE_WIDTH,\n",
    "                         height=IMAGE_HEIGHT,\n",
    "                         label=label,\n",
    "                         data=np.rollaxis(img, 2).tostring())"
   ]
  },
  {
   "cell_type": "markdown",
   "metadata": {
    "colab_type": "text",
    "id": "hP5FLdu2PVFD"
   },
   "source": [
    "## Creating train and validation datasets with lmdb lib"
   ]
  },
  {
   "cell_type": "code",
   "execution_count": 0,
   "metadata": {
    "colab": {},
    "colab_type": "code",
    "id": "_VG6SNPTOcc8"
   },
   "outputs": [],
   "source": [
    "path = '/////ABS/PATH'\n",
    "parent_path = os.path.sep.join(path.split(os.path.sep)[:-1])\n",
    "sibling_path = path.split(os.path.sep)[-1] + '_lmdb'\n",
    "sibling_path = os.path.sep.join([parent_path, sibling_path])\n",
    "train_lmdb = os.path.sep.join([sibling_path, 'train'])\n",
    "validation_lmdb = os.path.sep.join([sibling_path, 'validation'])"
   ]
  },
  {
   "cell_type": "code",
   "execution_count": 0,
   "metadata": {
    "colab": {},
    "colab_type": "code",
    "id": "UIcOW8CYQhcr"
   },
   "outputs": [],
   "source": [
    "if not os.path.exists(sibling_path):\n",
    "  os.makedirs(sibling_path)"
   ]
  },
  {
   "cell_type": "code",
   "execution_count": 14,
   "metadata": {
    "colab": {
     "base_uri": "https://localhost:8080/",
     "height": 34
    },
    "colab_type": "code",
    "id": "bfeuomziQ-BS",
    "outputId": "d901f4a2-3e9a-4841-ca9d-e6960342deeb"
   },
   "outputs": [
    {
     "data": {
      "text/plain": [
       "0"
      ]
     },
     "execution_count": 14,
     "metadata": {
      "tags": []
     },
     "output_type": "execute_result"
    }
   ],
   "source": [
    "os.system('rm -rf ' + train_lmdb)\n",
    "os.system('rm -rf ' + validation_lmdb)"
   ]
  },
  {
   "cell_type": "code",
   "execution_count": 0,
   "metadata": {
    "colab": {},
    "colab_type": "code",
    "id": "s4Erxa7ERCTK"
   },
   "outputs": [],
   "source": [
    "dataset = []\n",
    "for r, dirs, files in os.walk(path):\n",
    "  if len(dirs) > 0:\n",
    "    labels = dirs\n",
    "    continue # use only leaf folders\n",
    "  files_full_path = ['{}/{}'.format(r, f) for f in files]\n",
    "  directory_name = r.split(os.path.sep)[-1]\n",
    "  dataset.append((files_full_path, directory_name))"
   ]
  },
  {
   "cell_type": "code",
   "execution_count": 0,
   "metadata": {
    "colab": {},
    "colab_type": "code",
    "id": "hGYNf642S6QT"
   },
   "outputs": [],
   "source": [
    "label_dict = [(l, i) for i, l in enumerate(labels)]\n",
    "label_dict = dict(label_dict)"
   ]
  },
  {
   "cell_type": "markdown",
   "metadata": {
    "colab_type": "text",
    "id": "akUadfQFR0Br"
   },
   "source": [
    "'''\n",
    "Save dictionary in the form of:\n",
    "\n",
    "label_dict = { \\\n",
    "'basalcellcarcinoma': 0, \\\n",
    "'lentigo': 1, \\\n",
    "'malignantmelanoma': 2, \\\n",
    "'pigmentednevus': 3, \\\n",
    "'seborrheickeratosis': 4, \\\n",
    "'wart': 5, \\\n",
    "... \\\n",
    "}\n",
    "'''"
   ]
  },
  {
   "cell_type": "code",
   "execution_count": 0,
   "metadata": {
    "colab": {},
    "colab_type": "code",
    "id": "de5XYS8TRPly"
   },
   "outputs": [],
   "source": [
    "with open('label_dict.pkl', 'wb') as f:\n",
    "  pickle.dump(label_dict, f)\n",
    "  f.close()"
   ]
  },
  {
   "cell_type": "code",
   "execution_count": 0,
   "metadata": {
    "colab": {},
    "colab_type": "code",
    "id": "_wUihItHT51L"
   },
   "outputs": [],
   "source": [
    "X = [(img, label) for ndataset, label in dataset for img in ndataset]\n",
    "y = [label_dict[label] for _, label in X]"
   ]
  },
  {
   "cell_type": "code",
   "execution_count": 0,
   "metadata": {
    "colab": {},
    "colab_type": "code",
    "id": "HiAcrK_vT6Tp"
   },
   "outputs": [],
   "source": [
    "random.shuffle(X)"
   ]
  },
  {
   "cell_type": "markdown",
   "metadata": {
    "colab_type": "text",
    "id": "ybgljRmVUC2r"
   },
   "source": [
    "## Spliting datasets"
   ]
  },
  {
   "cell_type": "code",
   "execution_count": 0,
   "metadata": {
    "colab": {},
    "colab_type": "code",
    "id": "8L5-vd1GUG0z"
   },
   "outputs": [],
   "source": [
    "train_data, test_data, _, _ = train_test_split(X, y, train_size=0.8, stratify=y)"
   ]
  },
  {
   "cell_type": "code",
   "execution_count": 27,
   "metadata": {
    "colab": {
     "base_uri": "https://localhost:8080/",
     "height": 34
    },
    "colab_type": "code",
    "id": "CA4JySZdUTFe",
    "outputId": "df00ea17-c614-4233-d800-2ef0156cc6cb"
   },
   "outputs": [
    {
     "name": "stdout",
     "output_type": "stream",
     "text": [
      "Creating train_lmdb...\n"
     ]
    }
   ],
   "source": [
    "print('Creating train_lmdb...')"
   ]
  },
  {
   "cell_type": "code",
   "execution_count": 28,
   "metadata": {
    "colab": {
     "base_uri": "https://localhost:8080/",
     "height": 231
    },
    "colab_type": "code",
    "id": "7R_RmvUCUUA5",
    "outputId": "7e9bd6b3-b080-445a-bb5b-7c9c8c75c2a9"
   },
   "outputs": [
    {
     "ename": "NameError",
     "evalue": "ignored",
     "output_type": "error",
     "traceback": [
      "\u001b[0;31m---------------------------------------------------------------------------\u001b[0m",
      "\u001b[0;31mNameError\u001b[0m                                 Traceback (most recent call last)",
      "\u001b[0;32m<ipython-input-28-3074896f212b>\u001b[0m in \u001b[0;36m<module>\u001b[0;34m()\u001b[0m\n\u001b[1;32m      2\u001b[0m \u001b[0min_db\u001b[0m \u001b[0;34m=\u001b[0m \u001b[0mlmdb\u001b[0m\u001b[0;34m.\u001b[0m\u001b[0mopen\u001b[0m\u001b[0;34m(\u001b[0m\u001b[0mtrain_lmdb\u001b[0m\u001b[0;34m,\u001b[0m \u001b[0mmap_size\u001b[0m\u001b[0;34m=\u001b[0m\u001b[0mint\u001b[0m\u001b[0;34m(\u001b[0m\u001b[0;36m1e12\u001b[0m\u001b[0;34m)\u001b[0m\u001b[0;34m)\u001b[0m\u001b[0;34m\u001b[0m\u001b[0;34m\u001b[0m\u001b[0m\n\u001b[1;32m      3\u001b[0m \u001b[0;32mwith\u001b[0m \u001b[0min_db\u001b[0m\u001b[0;34m.\u001b[0m\u001b[0mbegin\u001b[0m\u001b[0;34m(\u001b[0m\u001b[0mwrite\u001b[0m\u001b[0;34m=\u001b[0m\u001b[0;32mTrue\u001b[0m\u001b[0;34m)\u001b[0m \u001b[0;32mas\u001b[0m \u001b[0min_txn\u001b[0m\u001b[0;34m:\u001b[0m\u001b[0;34m\u001b[0m\u001b[0;34m\u001b[0m\u001b[0m\n\u001b[0;32m----> 4\u001b[0;31m   \u001b[0;32mfor\u001b[0m \u001b[0min_idx\u001b[0m\u001b[0;34m,\u001b[0m \u001b[0;34m(\u001b[0m\u001b[0mimg_path\u001b[0m\u001b[0;34m,\u001b[0m \u001b[0mlabel\u001b[0m\u001b[0;34m)\u001b[0m \u001b[0;32min\u001b[0m \u001b[0menumerate\u001b[0m\u001b[0;34m(\u001b[0m\u001b[0mtrain_data\u001b[0m\u001b[0;34m)\u001b[0m\u001b[0;34m:\u001b[0m\u001b[0;34m\u001b[0m\u001b[0;34m\u001b[0m\u001b[0m\n\u001b[0m\u001b[1;32m      5\u001b[0m     \u001b[0;32mif\u001b[0m \u001b[0min_idx\u001b[0m \u001b[0;34m%\u001b[0m \u001b[0;36m100\u001b[0m \u001b[0;34m==\u001b[0m \u001b[0;36m0\u001b[0m\u001b[0;34m:\u001b[0m\u001b[0;34m\u001b[0m\u001b[0;34m\u001b[0m\u001b[0m\n\u001b[1;32m      6\u001b[0m       \u001b[0mprint\u001b[0m\u001b[0;34m(\u001b[0m\u001b[0;34m'Processed {}/{}'\u001b[0m\u001b[0;34m.\u001b[0m\u001b[0mformat\u001b[0m\u001b[0;34m(\u001b[0m\u001b[0min_idx\u001b[0m\u001b[0;34m,\u001b[0m \u001b[0mlen\u001b[0m\u001b[0;34m(\u001b[0m\u001b[0mtrain_data\u001b[0m\u001b[0;34m)\u001b[0m\u001b[0;34m)\u001b[0m\u001b[0;34m,\u001b[0m \u001b[0mend\u001b[0m\u001b[0;34m=\u001b[0m\u001b[0;34m'\\r'\u001b[0m\u001b[0;34m)\u001b[0m\u001b[0;34m\u001b[0m\u001b[0;34m\u001b[0m\u001b[0m\n",
      "\u001b[0;31mNameError\u001b[0m: name 'train_data' is not defined"
     ]
    }
   ],
   "source": [
    "train_time = time()\n",
    "in_db = lmdb.open(train_lmdb, map_size=int(1e12))\n",
    "with in_db.begin(write=True) as in_txn:\n",
    "  for in_idx, (img_path, label) in enumerate(train_data):\n",
    "    if in_idx % 100 == 0:\n",
    "      print('Processed {}/{}'.format(in_idx, len(train_data)), end='\\r')\n",
    "\n",
    "  img = cv2.imread(img_path, cv2.IMREAD_COLOR)\n",
    "  img = transform_img(img, img_width=IMAGE_WIDTH, img_height=IMAGE_HEIGHT)\n",
    " \n",
    "  num_label = label_dict[label]\n",
    "  datum = make_datum(img, num_label)\n",
    "\n",
    "  key = '{:0>6d}'.format(in_idx)\n",
    "  in_txn.put(key.encode(), datum.SerializeToString())"
   ]
  },
  {
   "cell_type": "code",
   "execution_count": 0,
   "metadata": {
    "colab": {},
    "colab_type": "code",
    "id": "7yPRSMmHU6bq"
   },
   "outputs": [],
   "source": [
    "in_db.close()\n",
    "print('Finished {} train_lmdb in {:.2f} sec'.format(len(train_data), (time() - train_time)))"
   ]
  },
  {
   "cell_type": "code",
   "execution_count": 0,
   "metadata": {
    "colab": {},
    "colab_type": "code",
    "id": "CjiwJct7VJ70"
   },
   "outputs": [],
   "source": [
    "print('\\nCreating validation_lmdb...')"
   ]
  },
  {
   "cell_type": "code",
   "execution_count": 0,
   "metadata": {
    "colab": {},
    "colab_type": "code",
    "id": "b1njaSJrVMl1"
   },
   "outputs": [],
   "source": [
    "test_time = time()\n",
    "in_db = lmdb.open(validation_lmdb, map_size=int(1e12))\n",
    "with in_db.begin(write=True) as in_txn:\n",
    "  old_t = time()\n",
    "  for in_idx, (img_path, label) in enumerate(test_data):\n",
    "    if in_idx % 100 == 0:\n",
    "      print('Processed {}/{}'.format(in_idx, len(test_data)), end='\\r\\r')\n",
    "      \n",
    "      old_t = time()\n",
    "      \n",
    "  img = cv2.imread(img_path, cv2.IMREAD_COLOR)\n",
    "  img = transform_img(img, img_width=IMAGE_WIDTH, img_height=IMAGE_HEIGHT)\n",
    "  num_label = label_dict[label]\n",
    "  datum = make_datum(img, num_label)\n",
    "  \n",
    "  key = '{:0>6d}'.format(in_idx)\n",
    "  in_txn.put(key.encode(), datum.SerializeToString())"
   ]
  },
  {
   "cell_type": "code",
   "execution_count": 29,
   "metadata": {
    "colab": {
     "base_uri": "https://localhost:8080/",
     "height": 180
    },
    "colab_type": "code",
    "id": "wfemFcE8V1vW",
    "outputId": "3f876fbc-b1d6-44b1-98ac-15e386223c0a"
   },
   "outputs": [
    {
     "ename": "NameError",
     "evalue": "ignored",
     "output_type": "error",
     "traceback": [
      "\u001b[0;31m---------------------------------------------------------------------------\u001b[0m",
      "\u001b[0;31mNameError\u001b[0m                                 Traceback (most recent call last)",
      "\u001b[0;32m<ipython-input-29-fdc3cbf33a96>\u001b[0m in \u001b[0;36m<module>\u001b[0;34m()\u001b[0m\n\u001b[1;32m      1\u001b[0m \u001b[0min_db\u001b[0m\u001b[0;34m.\u001b[0m\u001b[0mclose\u001b[0m\u001b[0;34m(\u001b[0m\u001b[0;34m)\u001b[0m\u001b[0;34m\u001b[0m\u001b[0;34m\u001b[0m\u001b[0m\n\u001b[0;32m----> 2\u001b[0;31m \u001b[0mprint\u001b[0m\u001b[0;34m(\u001b[0m\u001b[0;34m'Finished {} test_lmdb in {:.2f} sec'\u001b[0m\u001b[0;34m.\u001b[0m\u001b[0mformat\u001b[0m\u001b[0;34m(\u001b[0m\u001b[0mlen\u001b[0m\u001b[0;34m(\u001b[0m\u001b[0mtest_data\u001b[0m\u001b[0;34m)\u001b[0m\u001b[0;34m,\u001b[0m \u001b[0;34m(\u001b[0m\u001b[0mtime\u001b[0m\u001b[0;34m(\u001b[0m\u001b[0;34m)\u001b[0m \u001b[0;34m-\u001b[0m \u001b[0mtest_time\u001b[0m\u001b[0;34m)\u001b[0m\u001b[0;34m)\u001b[0m\u001b[0;34m)\u001b[0m\u001b[0;34m\u001b[0m\u001b[0;34m\u001b[0m\u001b[0m\n\u001b[0m",
      "\u001b[0;31mNameError\u001b[0m: name 'test_data' is not defined"
     ]
    }
   ],
   "source": [
    "in_db.close()\n",
    "print('Finished {} test_lmdb in {:.2f} sec'.format(len(test_data), (time() - test_time)))"
   ]
  },
  {
   "cell_type": "code",
   "execution_count": 0,
   "metadata": {
    "colab": {},
    "colab_type": "code",
    "id": "wbu4JfgOV-jy"
   },
   "outputs": [],
   "source": [
    "print('\\nFinished processing all images in {:.2f}'.format(time() - train_time))"
   ]
  }
 ],
 "metadata": {
  "colab": {
   "name": "dataset-preparetion.ipynb",
   "provenance": []
  },
  "kernelspec": {
   "display_name": "Python 3",
   "language": "python",
   "name": "python3"
  },
  "language_info": {
   "codemirror_mode": {
    "name": "ipython",
    "version": 3
   },
   "file_extension": ".py",
   "mimetype": "text/x-python",
   "name": "python",
   "nbconvert_exporter": "python",
   "pygments_lexer": "ipython3",
   "version": "3.6.8"
  }
 },
 "nbformat": 4,
 "nbformat_minor": 1
}

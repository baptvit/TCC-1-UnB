{
 "cells": [
  {
   "cell_type": "markdown",
   "metadata": {},
   "source": [
    "## Notebook to resize imagens in base dataset and convert all to RGB"
   ]
  },
  {
   "cell_type": "code",
   "execution_count": 36,
   "metadata": {},
   "outputs": [
    {
     "data": {
      "text/plain": [
       "['dermatofibroma',\n",
       " 'malignant-melanoma',\n",
       " 'squamous-cell-carcinoma',\n",
       " 'pyogenic-granuloma',\n",
       " 'lentigo',\n",
       " 'actinic-keratosis',\n",
       " 'intraepithelial-carcinoma',\n",
       " 'melanocytic-nevus',\n",
       " 'seborrheic-keratosis',\n",
       " 'wart',\n",
       " 'basal-cell-carcinoma',\n",
       " 'hemangioma']"
      ]
     },
     "execution_count": 36,
     "metadata": {},
     "output_type": "execute_result"
    }
   ],
   "source": [
    "from PIL import Image\n",
    "import os, sys\n",
    "\n",
    "path = \"/home/helpthx/Desktop/TCC-1/TCC-1-UnB/dataset (copy)/\"\n",
    "output_path = '/home/helpthx/Desktop/TCC-1/TCC-1-UnB/dataset-size/'\n",
    "dirs = os.listdir(path)\n",
    "dirs"
   ]
  },
  {
   "cell_type": "markdown",
   "metadata": {},
   "source": [
    "#### Function to rename imagens with acceding number, convert images to rgb and rezise all imagens to 448x488 to reduce process complexity in later operations"
   ]
  },
  {
   "cell_type": "code",
   "execution_count": 50,
   "metadata": {},
   "outputs": [],
   "source": [
    "def resize_convert_rename():\n",
    "    i = 0\n",
    "    for sub_dir in dirs:\n",
    "        for item in os.listdir(path + sub_dir):\n",
    "            if os.path.isfile(path + sub_dir + '/' + item):\n",
    "                im = Image.open(path + sub_dir + '/' + item)\n",
    "                f, e = os.path.splitext(path + sub_dir + '/' + item)\n",
    "                imResize = im.resize((448,448), Image.ANTIALIAS)\n",
    "                rgb_im = imResize.convert('RGB')\n",
    "                rgb_im.save(output_path + sub_dir + '/' + str(i) + '.jpg', 'JPEG', quality=90)\n",
    "                i = i + 1"
   ]
  },
  {
   "cell_type": "code",
   "execution_count": 51,
   "metadata": {},
   "outputs": [],
   "source": [
    "# Call function\n",
    "# resize_convert_rename()"
   ]
  },
  {
   "cell_type": "code",
   "execution_count": null,
   "metadata": {},
   "outputs": [],
   "source": []
  }
 ],
 "metadata": {
  "kernelspec": {
   "display_name": "Python 3",
   "language": "python",
   "name": "python3"
  },
  "language_info": {
   "codemirror_mode": {
    "name": "ipython",
    "version": 3
   },
   "file_extension": ".py",
   "mimetype": "text/x-python",
   "name": "python",
   "nbconvert_exporter": "python",
   "pygments_lexer": "ipython3",
   "version": "3.6.8"
  }
 },
 "nbformat": 4,
 "nbformat_minor": 2
}

{
 "cells": [
  {
   "cell_type": "code",
   "execution_count": 2,
   "metadata": {},
   "outputs": [
    {
     "data": {
      "text/plain": [
       "'/home/helpthx/Desktop/TCC-1/TCC-1-UnB'"
      ]
     },
     "execution_count": 2,
     "metadata": {},
     "output_type": "execute_result"
    }
   ],
   "source": [
    "import os\n",
    "os.getcwd()"
   ]
  },
  {
   "cell_type": "code",
   "execution_count": 8,
   "metadata": {},
   "outputs": [
    {
     "data": {
      "text/plain": [
       "['dermatofibroma',\n",
       " 'malignant-melanoma',\n",
       " 'squamous-cell-carcinoma',\n",
       " 'pyogenic-granuloma',\n",
       " 'lentigo',\n",
       " 'actinic-keratosis',\n",
       " 'intraepithelial-carcinoma',\n",
       " 'melanocytic-nevus',\n",
       " 'seborrheic-keratosis',\n",
       " 'wart',\n",
       " 'basal-cell-carcinoma',\n",
       " 'hemangioma']"
      ]
     },
     "execution_count": 8,
     "metadata": {},
     "output_type": "execute_result"
    }
   ],
   "source": [
    "teste = \"/home/helpthx/Desktop/TCC-1/TCC-1-UnB/dataset-448x448 _teste/\"\n",
    "sub_dirs = os.listdir(teste)"
   ]
  },
  {
   "cell_type": "code",
   "execution_count": 7,
   "metadata": {},
   "outputs": [
    {
     "ename": "NotADirectoryError",
     "evalue": "[Errno 20] Not a directory: '/home/helpthx/Desktop/TCC-1/TCC-1-UnB/dataset-448x448 _teste/dermatofibroma/resnet-augmented' -> '/home/helpthx/Desktop/TCC-1/TCC-1-UnB/dataset-448x448 _teste/dermatofibroma/59'",
     "output_type": "error",
     "traceback": [
      "\u001b[0;31m---------------------------------------------------------------------------\u001b[0m",
      "\u001b[0;31mNotADirectoryError\u001b[0m                        Traceback (most recent call last)",
      "\u001b[0;32m<ipython-input-7-f7a407956dd0>\u001b[0m in \u001b[0;36m<module>\u001b[0;34m\u001b[0m\n\u001b[1;32m      2\u001b[0m     \u001b[0;32mfor\u001b[0m \u001b[0mi\u001b[0m\u001b[0;34m,\u001b[0m \u001b[0mfilename\u001b[0m \u001b[0;32min\u001b[0m \u001b[0menumerate\u001b[0m\u001b[0;34m(\u001b[0m\u001b[0mos\u001b[0m\u001b[0;34m.\u001b[0m\u001b[0mlistdir\u001b[0m\u001b[0;34m(\u001b[0m\u001b[0mteste\u001b[0m \u001b[0;34m+\u001b[0m \u001b[0msub_dir\u001b[0m \u001b[0;34m+\u001b[0m \u001b[0;34m'/'\u001b[0m\u001b[0;34m)\u001b[0m\u001b[0;34m)\u001b[0m\u001b[0;34m:\u001b[0m\u001b[0;34m\u001b[0m\u001b[0;34m\u001b[0m\u001b[0m\n\u001b[1;32m      3\u001b[0m         \u001b[0mfilename\u001b[0m\u001b[0;34m[\u001b[0m\u001b[0;34m-\u001b[0m\u001b[0;36m4\u001b[0m\u001b[0;34m:\u001b[0m\u001b[0;34m]\u001b[0m\u001b[0;34m\u001b[0m\u001b[0;34m\u001b[0m\u001b[0m\n\u001b[0;32m----> 4\u001b[0;31m         \u001b[0mos\u001b[0m\u001b[0;34m.\u001b[0m\u001b[0mrename\u001b[0m\u001b[0;34m(\u001b[0m\u001b[0mteste\u001b[0m \u001b[0;34m+\u001b[0m \u001b[0msub_dir\u001b[0m \u001b[0;34m+\u001b[0m \u001b[0;34m'/'\u001b[0m \u001b[0;34m+\u001b[0m \u001b[0mfilename\u001b[0m\u001b[0;34m,\u001b[0m \u001b[0mteste\u001b[0m \u001b[0;34m+\u001b[0m \u001b[0msub_dir\u001b[0m \u001b[0;34m+\u001b[0m \u001b[0;34m'/'\u001b[0m \u001b[0;34m+\u001b[0m \u001b[0mstr\u001b[0m\u001b[0;34m(\u001b[0m\u001b[0mi\u001b[0m\u001b[0;34m)\u001b[0m\u001b[0;34m)\u001b[0m\u001b[0;34m\u001b[0m\u001b[0;34m\u001b[0m\u001b[0m\n\u001b[0m",
      "\u001b[0;31mNotADirectoryError\u001b[0m: [Errno 20] Not a directory: '/home/helpthx/Desktop/TCC-1/TCC-1-UnB/dataset-448x448 _teste/dermatofibroma/resnet-augmented' -> '/home/helpthx/Desktop/TCC-1/TCC-1-UnB/dataset-448x448 _teste/dermatofibroma/59'"
     ]
    }
   ],
   "source": [
    "for sub_dir in sub_dirs:\n",
    "    for i, filename in enumerate(os.listdir(teste + sub_dir + '/')):\n",
    "        filename[-4:]\n",
    "        os.rename(teste + sub_dir + '/' + filename, teste + sub_dir + '/' + str(i) + ilename[-4:])"
   ]
  },
  {
   "cell_type": "code",
   "execution_count": 36,
   "metadata": {},
   "outputs": [
    {
     "data": {
      "text/plain": [
       "['dermatofibroma',\n",
       " 'malignant-melanoma',\n",
       " 'squamous-cell-carcinoma',\n",
       " 'pyogenic-granuloma',\n",
       " 'lentigo',\n",
       " 'actinic-keratosis',\n",
       " 'intraepithelial-carcinoma',\n",
       " 'melanocytic-nevus',\n",
       " 'seborrheic-keratosis',\n",
       " 'wart',\n",
       " 'basal-cell-carcinoma',\n",
       " 'hemangioma']"
      ]
     },
     "execution_count": 36,
     "metadata": {},
     "output_type": "execute_result"
    }
   ],
   "source": [
    "from PIL import Image\n",
    "import os, sys\n",
    "\n",
    "path = \"/home/helpthx/Desktop/TCC-1/TCC-1-UnB/dataset (copy)/\"\n",
    "output_path = '/home/helpthx/Desktop/TCC-1/TCC-1-UnB/dataset-size/'\n",
    "dirs = os.listdir(path)\n",
    "dirs"
   ]
  },
  {
   "cell_type": "code",
   "execution_count": null,
   "metadata": {},
   "outputs": [],
   "source": []
  },
  {
   "cell_type": "code",
   "execution_count": 50,
   "metadata": {},
   "outputs": [],
   "source": [
    "import ipdb\n",
    "def resize():\n",
    "    i = 0\n",
    "    for sub_dir in dirs:\n",
    "        for item in os.listdir(path + sub_dir):\n",
    "            if os.path.isfile(path + sub_dir + '/' + item):\n",
    "                im = Image.open(path + sub_dir + '/' + item)\n",
    "                f, e = os.path.splitext(path + sub_dir + '/' + item)\n",
    "                imResize = im.resize((448,448), Image.ANTIALIAS)\n",
    "                rgb_im = imResize.convert('RGB')\n",
    "                rgb_im.save(output_path + sub_dir + '/' + str(i) + '.jpg', 'JPEG', quality=90)\n",
    "                i = i + 1"
   ]
  },
  {
   "cell_type": "code",
   "execution_count": 51,
   "metadata": {},
   "outputs": [],
   "source": [
    "resize()\n"
   ]
  },
  {
   "cell_type": "code",
   "execution_count": null,
   "metadata": {},
   "outputs": [],
   "source": []
  }
 ],
 "metadata": {
  "kernelspec": {
   "display_name": "Python 3",
   "language": "python",
   "name": "python3"
  },
  "language_info": {
   "codemirror_mode": {
    "name": "ipython",
    "version": 3
   },
   "file_extension": ".py",
   "mimetype": "text/x-python",
   "name": "python",
   "nbconvert_exporter": "python",
   "pygments_lexer": "ipython3",
   "version": "3.6.8"
  }
 },
 "nbformat": 4,
 "nbformat_minor": 2
}

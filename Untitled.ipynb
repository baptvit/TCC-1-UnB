{
 "cells": [
  {
   "cell_type": "code",
   "execution_count": 1,
   "metadata": {},
   "outputs": [
    {
     "ename": "ModuleNotFoundError",
     "evalue": "No module named 'encode'",
     "output_type": "error",
     "traceback": [
      "\u001b[0;31m---------------------------------------------------------------------------\u001b[0m",
      "\u001b[0;31mModuleNotFoundError\u001b[0m                       Traceback (most recent call last)",
      "\u001b[0;32m<ipython-input-1-2102346f276c>\u001b[0m in \u001b[0;36m<module>\u001b[0;34m\u001b[0m\n\u001b[0;32m----> 1\u001b[0;31m \u001b[0;32mfrom\u001b[0m \u001b[0mencode\u001b[0m \u001b[0;32mimport\u001b[0m \u001b[0mmultipart_encode\u001b[0m\u001b[0;34m\u001b[0m\u001b[0;34m\u001b[0m\u001b[0m\n\u001b[0m\u001b[1;32m      2\u001b[0m \u001b[0;32mfrom\u001b[0m \u001b[0mstreaminghttp\u001b[0m \u001b[0;32mimport\u001b[0m \u001b[0mregister_openers\u001b[0m\u001b[0;34m\u001b[0m\u001b[0;34m\u001b[0m\u001b[0m\n\u001b[1;32m      3\u001b[0m \u001b[0;32mimport\u001b[0m \u001b[0murllib2\u001b[0m\u001b[0;34m\u001b[0m\u001b[0;34m\u001b[0m\u001b[0m\n\u001b[1;32m      4\u001b[0m \u001b[0;34m\u001b[0m\u001b[0m\n\u001b[1;32m      5\u001b[0m \u001b[0;34m\u001b[0m\u001b[0m\n",
      "\u001b[0;31mModuleNotFoundError\u001b[0m: No module named 'encode'"
     ]
    }
   ],
   "source": [
    "from poster.encode import multipart_encode\n",
    "from poster.streaminghttp import register_openers\n",
    "import urllib2\n",
    "\n",
    "\n",
    "# Register the streaming http handlers with urllib2\n",
    "register_openers()\n",
    "\n",
    "# Use multipart encoding for the input files\n",
    "datagen, headers = multipart_encode({ 'files[]': open('/home/helpthx/TCC-1/TCC-1-UnB/downloads_lmdb/train/data.mdb', 'rb')})\n",
    "\n",
    "# Create the request object\n",
    "request = urllib2.Request('https://www.rebasedata.com/api/v1/convert', datagen, headers)\n",
    "\n",
    "# Do the request and get the response\n",
    "# Here the Access file gets converted to CSV\n",
    "response = urllib2.urlopen(request)\n",
    "\n",
    "# Check if an error came back\n",
    "if response.info().getheader('Content-Type') == 'application/json':\n",
    "    print(response.read())\n",
    "    sys.exit(1)\n",
    "\n",
    "# Write the response to /tmp/output.zip\n",
    "with open('/tmp/output.tar', 'wb') as local_file:\n",
    "    local_file.write(response.read())\n",
    "\n",
    "print('Conversion result successfully written to /tmp/output.zip!')"
   ]
  },
  {
   "cell_type": "code",
   "execution_count": null,
   "metadata": {},
   "outputs": [],
   "source": [
    "rows"
   ]
  },
  {
   "cell_type": "code",
   "execution_count": null,
   "metadata": {
    "scrolled": true
   },
   "outputs": [],
   "source": [
    "curl -F files[]=@/home/helpthx/TCC-1/TCC-1-UnB/downloads_lmdb/train/data.md 'https://www.rebasedata.com/api/v1/convert?outputFormat=csv&errorResponse=zip' -o output.zip"
   ]
  },
  {
   "cell_type": "code",
   "execution_count": null,
   "metadata": {},
   "outputs": [],
   "source": []
  }
 ],
 "metadata": {
  "kernelspec": {
   "display_name": "Python 2",
   "language": "python",
   "name": "python2"
  },
  "language_info": {
   "codemirror_mode": {
    "name": "ipython",
    "version": 3
   },
   "file_extension": ".py",
   "mimetype": "text/x-python",
   "name": "python",
   "nbconvert_exporter": "python",
   "pygments_lexer": "ipython3",
   "version": "3.6.8"
  }
 },
 "nbformat": 4,
 "nbformat_minor": 2
}

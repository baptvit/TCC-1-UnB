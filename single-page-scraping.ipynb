{
 "cells": [
  {
   "cell_type": "code",
   "execution_count": 2,
   "metadata": {},
   "outputs": [],
   "source": [
    "import sys\n",
    "import os\n",
    "import requests\n",
    "from re import sub, finditer\n",
    "from bs4 import BeautifulSoup\n",
    "from io import BytesIO\n",
    "from PIL import Image"
   ]
  },
  {
   "cell_type": "code",
   "execution_count": 3,
   "metadata": {},
   "outputs": [],
   "source": [
    "def download_file(url, dest_dir, filename=None):\n",
    "    if(filename is None):\n",
    "        filename = urlsplit(url).path.split(\"/\")[-1]\n",
    "        \n",
    "    request = requests.get(url)\n",
    "    image = Image.open(BytesIO(request.content))\n",
    "    \n",
    "    if image.mode in ('RGBA', 'LA'):\n",
    "        #background = Image.new(image.mode[:-1], image.size, fill_color)\n",
    "        #background.paste(image, image.split()[-1])\n",
    "        background = img_alpha_to_colour(image)\n",
    "        image = background\n",
    "    \n",
    "    image.save(os.path.join(dest_dir, filename))"
   ]
  },
  {
   "cell_type": "code",
   "execution_count": 4,
   "metadata": {},
   "outputs": [],
   "source": [
    "def img_alpha_to_colour(image, color=(255, 255, 255)):\n",
    "    image.load()  # needed for split()\n",
    "    background = Image.new('RGB', image.size, color)\n",
    "    background.paste(image, mask=image.split()[3])  # 3 is the alpha channel\n",
    "    return background"
   ]
  },
  {
   "cell_type": "code",
   "execution_count": 5,
   "metadata": {},
   "outputs": [],
   "source": [
    "def get_file_urls(soup):\n",
    "    file_urls = []\n",
    "    \n",
    "    # fix href errors\n",
    "    for anchor in soup.find_all(attrs={'class':'fileThumb'}):\n",
    "        file_urls.append(sub(\"//\", \"https://\", anchor.get('href')))\n",
    "    return file_urls"
   ]
  },
  {
   "cell_type": "code",
   "execution_count": 6,
   "metadata": {},
   "outputs": [],
   "source": [
    "def get_filenames(soup):\n",
    "    filenames = []\n",
    "\n",
    "    for anchor in soup.find_all(attrs={'class': 'fileText'}):\n",
    "        filenames.append(anchor.get_text().split(\" \")[1])\n",
    "        print(filenames.append(anchor.get_text().split(\" \")[1]))\n",
    "    return filenames"
   ]
  },
  {
   "cell_type": "code",
   "execution_count": 12,
   "metadata": {},
   "outputs": [],
   "source": [
    "dest_base_dir = os.getcwd()\n",
    "dest_dir = (dest_base_dir + '/dataset_3')"
   ]
  },
  {
   "cell_type": "code",
   "execution_count": 15,
   "metadata": {},
   "outputs": [],
   "source": [
    "def main(url, dest_dir):\n",
    "    print(\"┌─────────────────────────────────────────────────────────────────────┐\")\n",
    "    print(\"│           Image Scraping Tool built by Steven Karmaniolos           │\")\n",
    "    print(\"└─────────────────────────────────────────────────────────────────────┘\")\n",
    "    print(\"Downloading images from \" + url + \" ...\")\n",
    "    \n",
    "    html = requests.get(url).text\n",
    "    soup = BeautifulSoup(html, \"html.parser\")\n",
    "\n",
    "    file_urls = get_file_urls(soup)\n",
    "    filenames = get_filenames(soup)\n",
    "\n",
    "    for i in range(len(file_urls)):\n",
    "        print(\"Downloading file: \" + filenames[i])\n",
    "        download_file(file_urls[i], dest_dir, filenames[i])\n",
    "\n",
    "    print(\"┌─────────────────────────────────────────────────────────────────────┐\")\n",
    "    print(\"│             Scrape completed. Your files are now ready.             │\")\n",
    "    print(\"└─────────────────────────────────────────────────────────────────────┘\")"
   ]
  },
  {
   "cell_type": "code",
   "execution_count": 16,
   "metadata": {},
   "outputs": [
    {
     "data": {
      "text/plain": [
       "'/home/helpthx/Desktop/TCC-1/TCC-1-UnB/dataset_3'"
      ]
     },
     "execution_count": 16,
     "metadata": {},
     "output_type": "execute_result"
    }
   ],
   "source": [
    "dest_dir"
   ]
  },
  {
   "cell_type": "code",
   "execution_count": 20,
   "metadata": {},
   "outputs": [
    {
     "name": "stdout",
     "output_type": "stream",
     "text": [
      "┌─────────────────────────────────────────────────────────────────────┐\n",
      "│           Image Scraping Tool built by Steven Karmaniolos           │\n",
      "└─────────────────────────────────────────────────────────────────────┘\n",
      "Downloading images from http://www.webcrawler.com/serp?q=Actinic+keratosis&sc=qAhiEuh410VRRoZs2CMIbjhWoH2tXmqsl6LlH24XMJnnxzjnbhIyINd4eIElt5x5UeKRSloPT7lo9EKKiDTp8qK_lhGq2Jjn2zpryot8Y0OPnA0rlZuvunjFrAY8DoFb7mOCNHf62Xn5aCWbip1D94L40s8dhrJLtRCWgF8YwO_vqYPvAcR8CZ48q7m8KBM0cWotmzvpOWc7r9Ne7OEJ4CjA1_sckr0OTlsOsYdPU39s9YkK4oD1bs3z_PT3XOweS1nxPvPfujoRivqhqaUYkJxFGstPGArWdVcpdQpjd4Lt8Fjj2jpsJ32g0PP9-GoFhyx-fcjLgSOSHdgVjoFMrx2BlPH25u5s6bOUz1GyO0J8T8FVabWCsqfjB3-PATNLoeJ2LU0GgPh4TwRTv5OMKeS5BADQkCU81ATNeku6hkcbuCmgoHdSlJrrDOf3Cxz7sGxgrMpyQNiRUdoCjJjhTpssk-yJKceNDjGY262HjLbMwDuYPjawtelE28t8NpEf1REAbPiLGEumqT2nW36oMoVPK2q9bSvyF1EBE0ejfRg3XYYfHBJjaM4mb7E35o49wU0R4qg59mt3D2tOuG07hEgn9Ft8AqIYaTBg8ht9BhFChl_qXXPsSR8HmbBdBmRK-gAJEnmNSK4l0hv8xvof1GOJrt6jW1absg4sLmYLT7At702l6f9cMxUTEhkmfjeMEEo9FfXdGV1rdVn9CJRC-iUy9HstWSCBnuSqaFRoe3b5oYBOfm0ERcL6dKs0ZDDe1oX57hgQXCjTx-NUZqCLcvLrIS6-_zff_WzUmADgUxIywpjr1lvM4-WhAADe3aaaWNZX8mPXGU-Xv5B67WO9F-UneoL0aOd7Lh6-pLq5RIgK18g7-dikx84v43MaVioylM-AKuu38Si0xugDXqzPcyOItlTleSKPnCMKxHiiPc6PdCwaX7fSCDwTY7FBcr_CgfKveaWZyzYwVDVnT00NCJyL8qefZzNozKDFX1aBSL6vrNrFFDtnTXQ7uMLsh1VFrmtBmPrpvMyZLE518PW162e8F-KlYjGYr8qmvdDK35DXWhokbdzZtwn2p1_LevmWcHnk1LMcD8goyvKYbFoE7V4X_eWvSRrOOx09yDGAeRkpu7IsHlXistVviTN_NqDPQ3-ZG1JO7N0epvNGQFO2Rq3_LBRWBLz8uRg2In1SnLGDm6Su5Uq-WZWxwLlTDKRUK93odxV40DixNmeRCmPvMgEyApUEpGxknX1V3dcZPUhDBFck9ke5tJgf-N_A3jUYOdjo7MqzhLTVsT1ottJ1qep80pdWNe9_Ov4SKA1GuJoY_W4SCM7rMRFxLdWe-Gl5cawsmT_cgjFp0dCrFkV8KxPxznj7PWjIqaCg1bpfaQMo4pnOITRtBEpR0_taW0X19SDFk2qOtSMUjqn_C3ueKhtBxdTwcDntML-gJ1riL9O6Tc8yNTUGnE3hAdm8C3q5NSecFy1tAAvcpVNiGymPvx3eNoXQyA_eNpO-3myEdG773saXdwQUEbV-FYMe0vAjEkOmw8-0tb7ycCi1kJKdLg-sGpN1GCdUeMnWmFdmAr4eY4VnSL0a3u31tH9e0H5tshjITSx8yQAOi5ZtCv58vuG2DsCdsZ40alOvsIcQJd5SWgovSNxsVt-azGIhsc7xm0AJplHQipLpkujw5QMlsv0hHGoCKd51mDRpMUs ...\n",
      "┌─────────────────────────────────────────────────────────────────────┐\n",
      "│             Scrape completed. Your files are now ready.             │\n",
      "└─────────────────────────────────────────────────────────────────────┘\n"
     ]
    }
   ],
   "source": [
    "main(\"http://www.webcrawler.com/serp?q=Actinic+keratosis&sc=qAhiEuh410VRRoZs2CMIbjhWoH2tXmqsl6LlH24XMJnnxzjnbhIyINd4eIElt5x5UeKRSloPT7lo9EKKiDTp8qK_lhGq2Jjn2zpryot8Y0OPnA0rlZuvunjFrAY8DoFb7mOCNHf62Xn5aCWbip1D94L40s8dhrJLtRCWgF8YwO_vqYPvAcR8CZ48q7m8KBM0cWotmzvpOWc7r9Ne7OEJ4CjA1_sckr0OTlsOsYdPU39s9YkK4oD1bs3z_PT3XOweS1nxPvPfujoRivqhqaUYkJxFGstPGArWdVcpdQpjd4Lt8Fjj2jpsJ32g0PP9-GoFhyx-fcjLgSOSHdgVjoFMrx2BlPH25u5s6bOUz1GyO0J8T8FVabWCsqfjB3-PATNLoeJ2LU0GgPh4TwRTv5OMKeS5BADQkCU81ATNeku6hkcbuCmgoHdSlJrrDOf3Cxz7sGxgrMpyQNiRUdoCjJjhTpssk-yJKceNDjGY262HjLbMwDuYPjawtelE28t8NpEf1REAbPiLGEumqT2nW36oMoVPK2q9bSvyF1EBE0ejfRg3XYYfHBJjaM4mb7E35o49wU0R4qg59mt3D2tOuG07hEgn9Ft8AqIYaTBg8ht9BhFChl_qXXPsSR8HmbBdBmRK-gAJEnmNSK4l0hv8xvof1GOJrt6jW1absg4sLmYLT7At702l6f9cMxUTEhkmfjeMEEo9FfXdGV1rdVn9CJRC-iUy9HstWSCBnuSqaFRoe3b5oYBOfm0ERcL6dKs0ZDDe1oX57hgQXCjTx-NUZqCLcvLrIS6-_zff_WzUmADgUxIywpjr1lvM4-WhAADe3aaaWNZX8mPXGU-Xv5B67WO9F-UneoL0aOd7Lh6-pLq5RIgK18g7-dikx84v43MaVioylM-AKuu38Si0xugDXqzPcyOItlTleSKPnCMKxHiiPc6PdCwaX7fSCDwTY7FBcr_CgfKveaWZyzYwVDVnT00NCJyL8qefZzNozKDFX1aBSL6vrNrFFDtnTXQ7uMLsh1VFrmtBmPrpvMyZLE518PW162e8F-KlYjGYr8qmvdDK35DXWhokbdzZtwn2p1_LevmWcHnk1LMcD8goyvKYbFoE7V4X_eWvSRrOOx09yDGAeRkpu7IsHlXistVviTN_NqDPQ3-ZG1JO7N0epvNGQFO2Rq3_LBRWBLz8uRg2In1SnLGDm6Su5Uq-WZWxwLlTDKRUK93odxV40DixNmeRCmPvMgEyApUEpGxknX1V3dcZPUhDBFck9ke5tJgf-N_A3jUYOdjo7MqzhLTVsT1ottJ1qep80pdWNe9_Ov4SKA1GuJoY_W4SCM7rMRFxLdWe-Gl5cawsmT_cgjFp0dCrFkV8KxPxznj7PWjIqaCg1bpfaQMo4pnOITRtBEpR0_taW0X19SDFk2qOtSMUjqn_C3ueKhtBxdTwcDntML-gJ1riL9O6Tc8yNTUGnE3hAdm8C3q5NSecFy1tAAvcpVNiGymPvx3eNoXQyA_eNpO-3myEdG773saXdwQUEbV-FYMe0vAjEkOmw8-0tb7ycCi1kJKdLg-sGpN1GCdUeMnWmFdmAr4eY4VnSL0a3u31tH9e0H5tshjITSx8yQAOi5ZtCv58vuG2DsCdsZ40alOvsIcQJd5SWgovSNxsVt-azGIhsc7xm0AJplHQipLpkujw5QMlsv0hHGoCKd51mDRpMUs\", dest_dir)"
   ]
  },
  {
   "cell_type": "code",
   "execution_count": 21,
   "metadata": {},
   "outputs": [],
   "source": [
    "image-scraper http://www.webcrawler.com/serp?q=Actinic+keratosis&sc=qAhiEuh410VRRoZs2CMIbjhWoH2tXmqsl6LlH24XMJnnxzjnbhIyINd4eIElt5x5UeKRSloPT7lo9EKKiDTp8qK_lhGq2Jjn2zpryot8Y0OPnA0rlZuvunjFrAY8DoFb7mOCNHf62Xn5aCWbip1D94L40s8dhrJLtRCWgF8YwO_vqYPvAcR8CZ48q7m8KBM0cWotmzvpOWc7r9Ne7OEJ4CjA1_sckr0OTlsOsYdPU39s9YkK4oD1bs3z_PT3XOweS1nxPvPfujoRivqhqaUYkJxFGstPGArWdVcpdQpjd4Lt8Fjj2jpsJ32g0PP9-GoFhyx-fcjLgSOSHdgVjoFMrx2BlPH25u5s6bOUz1GyO0J8T8FVabWCsqfjB3-PATNLoeJ2LU0GgPh4TwRTv5OMKeS5BADQkCU81ATNeku6hkcbuCmgoHdSlJrrDOf3Cxz7sGxgrMpyQNiRUdoCjJjhTpssk-yJKceNDjGY262HjLbMwDuYPjawtelE28t8NpEf1REAbPiLGEumqT2nW36oMoVPK2q9bSvyF1EBE0ejfRg3XYYfHBJjaM4mb7E35o49wU0R4qg59mt3D2tOuG07hEgn9Ft8AqIYaTBg8ht9BhFChl_qXXPsSR8HmbBdBmRK-gAJEnmNSK4l0hv8xvof1GOJrt6jW1absg4sLmYLT7At702l6f9cMxUTEhkmfjeMEEo9FfXdGV1rdVn9CJRC-iUy9HstWSCBnuSqaFRoe3b5oYBOfm0ERcL6dKs0ZDDe1oX57hgQXCjTx-NUZqCLcvLrIS6-_zff_WzUmADgUxIywpjr1lvM4-WhAADe3aaaWNZX8mPXGU-Xv5B67WO9F-UneoL0aOd7Lh6-pLq5RIgK18g7-dikx84v43MaVioylM-AKuu38Si0xugDXqzPcyOItlTleSKPnCMKxHiiPc6PdCwaX7fSCDwTY7FBcr_CgfKveaWZyzYwVDVnT00NCJyL8qefZzNozKDFX1aBSL6vrNrFFDtnTXQ7uMLsh1VFrmtBmPrpvMyZLE518PW162e8F-KlYjGYr8qmvdDK35DXWhokbdzZtwn2p1_LevmWcHnk1LMcD8goyvKYbFoE7V4X_eWvSRrOOx09yDGAeRkpu7IsHlXistVviTN_NqDPQ3-ZG1JO7N0epvNGQFO2Rq3_LBRWBLz8uRg2In1SnLGDm6Su5Uq-WZWxwLlTDKRUK93odxV40DixNmeRCmPvMgEyApUEpGxknX1V3dcZPUhDBFck9ke5tJgf-N_A3jUYOdjo7MqzhLTVsT1ottJ1qep80pdWNe9_Ov4SKA1GuJoY_W4SCM7rMRFxLdWe-Gl5cawsmT_cgjFp0dCrFkV8KxPxznj7PWjIqaCg1bpfaQMo4pnOITRtBEpR0_taW0X19SDFk2qOtSMUjqn_C3ueKhtBxdTwcDntML-gJ1riL9O6Tc8yNTUGnE3hAdm8C3q5NSecFy1tAAvcpVNiGymPvx3eNoXQyA_eNpO-3myEdG773saXdwQUEbV-FYMe0vAjEkOmw8-0tb7ycCi1kJKdLg-sGpN1GCdUeMnWmFdmAr4eY4VnSL0a3u31tH9e0H5tshjITSx8yQAOi5ZtCv58vuG2DsCdsZ40alOvsIcQJd5SWgovSNxsVt-azGIhsc7xm0AJplHQipLpkujw5QMlsv0hHGoCKd51mDRpMUs\n",
    "\n",
    "image-scraper  http://www.webcrawler.com/serp?q=Actinic+keratosis&sc=qAhiEuh410VRRoZs2CMIbjhWoH2tXmqsl6LlH24XMJnnxzjnbhIyINd4eIElt5x5UeKRSloPT7lo9EKKiDTp8qK_lhGq2Jjn2zpryot8Y0OPnA0rlZuvunjFrAY8DoFb7mOCNHf62Xn5aCWbip1D94L40s8dhrJLtRCWgF8YwO_vqYPvAcR8CZ48q7m8KBM0cWotmzvpOWc7r9Ne7OEJ4CjA1_sckr0OTlsOsYdPU39s9YkK4oD1bs3z_PT3XOweS1nxPvPfujoRivqhqaUYkJxFGstPGArWdVcpdQpjd4Lt8Fjj2jpsJ32g0PP9-GoFhyx-fcjLgSOSHdgVjoFMrx2BlPH25u5s6bOUz1GyO0J8T8FVabWCsqfjB3-PATNLoeJ2LU0GgPh4TwRTv5OMKeS5BADQkCU81ATNeku6hkcbuCmgoHdSlJrrDOf3Cxz7sGxgrMpyQNiRUdoCjJjhTpssk-yJKceNDjGY262HjLbMwDuYPjawtelE28t8NpEf1REAbPiLGEumqT2nW36oMoVPK2q9bSvyF1EBE0ejfRg3XYYfHBJjaM4mb7E35o49wU0R4qg59mt3D2tOuG07hEgn9Ft8AqIYaTBg8ht9BhFChl_qXXPsSR8HmbBdBmRK-gAJEnmNSK4l0hv8xvof1GOJrt6jW1absg4sLmYLT7At702l6f9cMxUTEhkmfjeMEEo9FfXdGV1rdVn9CJRC-iUy9HstWSCBnuSqaFRoe3b5oYBOfm0ERcL6dKs0ZDDe1oX57hgQXCjTx-NUZqCLcvLrIS6-_zff_WzUmADgUxIywpjr1lvM4-WhAADe3aaaWNZX8mPXGU-Xv5B67WO9F-UneoL0aOd7Lh6-pLq5RIgK18g7-dikx84v43MaVioylM-AKuu38Si0xugDXqzPcyOItlTleSKPnCMKxHiiPc6PdCwaX7fSCDwTY7FBcr_CgfKveaWZyzYwVDVnT00NCJyL8qefZzNozKDFX1aBSL6vrNrFFDtnTXQ7uMLsh1VFrmtBmPrpvMyZLE518PW162e8F-KlYjGYr8qmvdDK35DXWhokbdzZtwn2p1_LevmWcHnk1LMcD8goyvKYbFoE7V4X_eWvSRrOOx09yDGAeRkpu7IsHlXistVviTN_NqDPQ3-ZG1JO7N0epvNGQFO2Rq3_LBRWBLz8uRg2In1SnLGDm6Su5Uq-WZWxwLlTDKRUK93odxV40DixNmeRCmPvMgEyApUEpGxknX1V3dcZPUhDBFck9ke5tJgf-N_A3jUYOdjo7MqzhLTVsT1ottJ1qep80pdWNe9_Ov4SKA1GuJoY_W4SCM7rMRFxLdWe-Gl5cawsmT_cgjFp0dCrFkV8KxPxznj7PWjIqaCg1bpfaQMo4pnOITRtBEpR0_taW0X19SDFk2qOtSMUjqn_C3ueKhtBxdTwcDntML-gJ1riL9O6Tc8yNTUGnE3hAdm8C3q5NSecFy1tAAvcpVNiGymPvx3eNoXQyA_eNpO-3myEdG773saXdwQUEbV-FYMe0vAjEkOmw8-0tb7ycCi1kJKdLg-sGpN1GCdUeMnWmFdmAr4eY4VnSL0a3u31tH9e0H5tshjITSx8yQAOi5ZtCv58vuG2DsCdsZ40alOvsIcQJd5SWgovSNxsVt-azGIhsc7xm0AJplHQipLpkujw5QMlsv0hHGoCKd51mDRpMUs"
   ]
  },
  {
   "cell_type": "code",
   "execution_count": null,
   "metadata": {},
   "outputs": [],
   "source": []
  }
 ],
 "metadata": {
  "kernelspec": {
   "display_name": "Python 3",
   "language": "python",
   "name": "python3"
  },
  "language_info": {
   "codemirror_mode": {
    "name": "ipython",
    "version": 3
   },
   "file_extension": ".py",
   "mimetype": "text/x-python",
   "name": "python",
   "nbconvert_exporter": "python",
   "pygments_lexer": "ipython3",
   "version": "3.6.8"
  }
 },
 "nbformat": 4,
 "nbformat_minor": 2
}

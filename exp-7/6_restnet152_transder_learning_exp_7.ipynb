{
  "nbformat": 4,
  "nbformat_minor": 0,
  "metadata": {
    "kernelspec": {
      "name": "python3",
      "display_name": "Python 3"
    },
    "language_info": {
      "codemirror_mode": {
        "name": "ipython",
        "version": 3
      },
      "file_extension": ".py",
      "mimetype": "text/x-python",
      "name": "python",
      "nbconvert_exporter": "python",
      "pygments_lexer": "ipython3",
      "version": "3.6.8"
    },
    "colab": {
      "name": "6-restnet152_transder_learning_exp_7.ipynb",
      "provenance": [],
      "collapsed_sections": [],
      "toc_visible": true
    },
    "accelerator": "GPU"
  },
  "cells": [
    {
      "cell_type": "code",
      "metadata": {
        "id": "sTmpmxh7nwP5",
        "colab_type": "code",
        "colab": {}
      },
      "source": [
        "%matplotlib inline"
      ],
      "execution_count": 0,
      "outputs": []
    },
    {
      "cell_type": "markdown",
      "metadata": {
        "id": "DxigCQpanwP-",
        "colab_type": "text"
      },
      "source": [
        "\n",
        "Finetuning Torchvision Models\n",
        "=============================\n",
        "\n",
        "**Author:** `[João Vitor Rodrigues Baptista](https://github.com/helpthx)\n",
        "\n",
        "\n"
      ]
    },
    {
      "cell_type": "markdown",
      "metadata": {
        "id": "-7dejhsHnwP_",
        "colab_type": "text"
      },
      "source": [
        "In this tutorial we will take a deeper look at how to finetune and\n",
        "feature extract the [torchvisionmodels](https://pytorch.org/docs/stable/torchvision/models.html>), all\n",
        "of which have been pretrained on the 1000-class Imagenet dataset. This\n",
        "tutorial will give an indepth look at how to work with several modern\n",
        "CNN architectures, and will build an intuition for finetuning any\n",
        "PyTorch model. Since each model architecture is different, there is no\n",
        "boilerplate finetuning code that will work in all scenarios. Rather, the\n",
        "researcher must look at the existing architecture and make custom\n",
        "adjustments for each model.\n",
        "\n",
        "In this document we will perform two types of transfer learning:\n",
        "finetuning and feature extraction. In **finetuning**, we start with a\n",
        "pretrained model and update *all* of the model’s parameters for our new\n",
        "task, in essence retraining the whole model. In **feature extraction**,\n",
        "we start with a pretrained model and only update the final layer weights\n",
        "from which we derive predictions. It is called feature extraction\n",
        "because we use the pretrained CNN as a fixed feature-extractor, and only\n",
        "change the output layer. For more technical information about transfer\n",
        "learning see `here <https://cs231n.github.io/transfer-learning/>`__ and\n",
        "`here <https://ruder.io/transfer-learning/>`__.\n",
        "\n",
        "In general both transfer learning methods follow the same few steps:\n",
        "\n",
        "-  Initialize the pretrained model\n",
        "-  Reshape the final layer(s) to have the same number of outputs as the\n",
        "   number of classes in the new dataset\n",
        "-  Define for the optimization algorithm which parameters we want to\n",
        "   update during training\n",
        "-  Run the training step\n",
        "\n",
        "\n"
      ]
    },
    {
      "cell_type": "code",
      "metadata": {
        "id": "6z4Qko9lnwQA",
        "colab_type": "code",
        "outputId": "faa515f1-9c90-4a60-a734-b51db784beb7",
        "colab": {
          "base_uri": "https://localhost:8080/",
          "height": 127
        }
      },
      "source": [
        "from google.colab import drive\n",
        "drive.mount('/content/gdrive')"
      ],
      "execution_count": 0,
      "outputs": [
        {
          "output_type": "stream",
          "text": [
            "Go to this URL in a browser: https://accounts.google.com/o/oauth2/auth?client_id=947318989803-6bn6qk8qdgf4n4g3pfee6491hc0brc4i.apps.googleusercontent.com&redirect_uri=urn%3aietf%3awg%3aoauth%3a2.0%3aoob&response_type=code&scope=email%20https%3a%2f%2fwww.googleapis.com%2fauth%2fdocs.test%20https%3a%2f%2fwww.googleapis.com%2fauth%2fdrive%20https%3a%2f%2fwww.googleapis.com%2fauth%2fdrive.photos.readonly%20https%3a%2f%2fwww.googleapis.com%2fauth%2fpeopleapi.readonly\n",
            "\n",
            "Enter your authorization code:\n",
            "··········\n",
            "Mounted at /content/gdrive\n"
          ],
          "name": "stdout"
        }
      ]
    },
    {
      "cell_type": "code",
      "metadata": {
        "id": "iTR1lRwDnwQD",
        "colab_type": "code",
        "outputId": "35a845c7-9303-4d72-9f76-7778753b4dab",
        "colab": {
          "base_uri": "https://localhost:8080/",
          "height": 35
        }
      },
      "source": [
        "%cd '/content/gdrive/My Drive/UnB/TCC-1/TCC1-1-dataset-final'"
      ],
      "execution_count": 0,
      "outputs": [
        {
          "output_type": "stream",
          "text": [
            "/content/gdrive/My Drive/UnB/TCC-1/TCC1-1-dataset-final\n"
          ],
          "name": "stdout"
        }
      ]
    },
    {
      "cell_type": "code",
      "metadata": {
        "id": "KJ-bP0FAnwQG",
        "colab_type": "code",
        "outputId": "f5042cf6-b143-4abd-88e9-b144ac8d1162",
        "colab": {
          "base_uri": "https://localhost:8080/",
          "height": 35
        }
      },
      "source": [
        "!ls"
      ],
      "execution_count": 0,
      "outputs": [
        {
          "output_type": "stream",
          "text": [
            "dataset_final.tar.xz\n"
          ],
          "name": "stdout"
        }
      ]
    },
    {
      "cell_type": "code",
      "metadata": {
        "id": "fCSucg44nwQI",
        "colab_type": "code",
        "colab": {}
      },
      "source": [
        "#!rm -rf dataset-split"
      ],
      "execution_count": 0,
      "outputs": []
    },
    {
      "cell_type": "code",
      "metadata": {
        "id": "s7wimz6UnwQL",
        "colab_type": "code",
        "colab": {}
      },
      "source": [
        "!tar -xf dataset_final.tar.xz"
      ],
      "execution_count": 0,
      "outputs": []
    },
    {
      "cell_type": "code",
      "metadata": {
        "id": "kzlYHRrxnwQO",
        "colab_type": "code",
        "outputId": "a5f1d99c-9190-44f3-9f89-28e96e9a3cc7",
        "colab": {
          "base_uri": "https://localhost:8080/",
          "height": 53
        }
      },
      "source": [
        "from __future__ import print_function \n",
        "from __future__ import division\n",
        "import torch\n",
        "import torch.nn as nn\n",
        "import torch.optim as optim\n",
        "import numpy as np\n",
        "import torchvision\n",
        "import csv\n",
        "from torchvision import datasets, models, transforms\n",
        "import matplotlib.pyplot as plt\n",
        "import time\n",
        "import os\n",
        "import copy\n",
        "print(\"PyTorch Version: \",torch.__version__)\n",
        "print(\"Torchvision Version: \",torchvision.__version__)"
      ],
      "execution_count": 0,
      "outputs": [
        {
          "output_type": "stream",
          "text": [
            "PyTorch Version:  1.3.1\n",
            "Torchvision Version:  0.4.2\n"
          ],
          "name": "stdout"
        }
      ]
    },
    {
      "cell_type": "markdown",
      "metadata": {
        "id": "liU24qFgnwQR",
        "colab_type": "text"
      },
      "source": [
        "Inputs\n",
        "------\n",
        "\n",
        "Here are all of the parameters to change for the run. We will use the\n",
        "*hymenoptera_data* dataset which can be downloaded\n",
        "This dataset contains twelve classes of different skin lessions.\n",
        "\n",
        "The other inputs are as follows: ``num_classes`` is the number of\n",
        "classes in the dataset, ``batch_size`` is the batch size used for\n",
        "training and may be adjusted according to the capability of your\n",
        "machine, ``num_epochs`` is the number of training epochs we want to run,\n",
        "and ``feature_extract`` is a boolean that defines if we are finetuning\n",
        "or feature extracting. If ``feature_extract = False``, the model is\n",
        "finetuned and all model parameters are updated. If\n",
        "``feature_extract = True``, only the last layer parameters are updated,\n",
        "the others remain fixed."
      ]
    },
    {
      "cell_type": "code",
      "metadata": {
        "id": "ex183vU-nwQS",
        "colab_type": "code",
        "colab": {}
      },
      "source": [
        "# Top level data directory. Here we assume the format of the directory conforms \n",
        "#   to the ImageFolder structure\n",
        "data_dir='/content/gdrive/My Drive/UnB/TCC-1/TCC1-1-dataset-final/dataset_final'\n",
        "\n",
        "MODEL_SAVE_DIR='/content/gdrive/My Drive/UnB/TCC-1/TCC1-1-dataset-final'\n",
        "\n",
        "CSV_TRAIN_DIR='/content/gdrive/My Drive/UnB/TCC-1/TCC1-1-dataset-final'\n",
        "\n",
        "# If you dont have a pre-trained model or want to recovery traing\n",
        "# let this field None or False\n",
        "PREVIUS_TRAINED_MODEL=False\n",
        "\n",
        "\n",
        "# Models to choose from [resnet]\n",
        "model_name='resnet'\n",
        "\n",
        "# Number of classes in the dataset\n",
        "num_classes=9\n",
        "\n",
        "# Batch size for training (change depending on how much memory you have)\n",
        "batch_size=32\n",
        "\n",
        "# Number of epochs to train for \n",
        "num_epochs=100\n",
        "\n",
        "# Flag for feature extracting. When False, we finetune the whole model, \n",
        "#   when True we only update the reshaped layer params\n",
        "feature_extract=False\n",
        "\n",
        "# Hyperparamets\n",
        "STEP_SIZE_CONST=1\n",
        "\n",
        "GAMMA_CONST=0.1 \n",
        "\n",
        "LR_CONST=0.001\n",
        "\n",
        "MOMENTUM_COST=0.9"
      ],
      "execution_count": 0,
      "outputs": []
    },
    {
      "cell_type": "markdown",
      "metadata": {
        "id": "RZ7D1BW7nwQV",
        "colab_type": "text"
      },
      "source": [
        "Helper Functions\n",
        "----------------\n",
        "\n",
        "Before we write the code for adjusting the models, lets define a few\n",
        "helper functions.\n",
        "\n",
        "Model Training and Validation Code\n",
        "~~~~~~~~~~~~~~~~~~~~~~~~~~~~~~~~~~\n",
        "\n",
        "The ``train_model`` function handles the training and validation of a\n",
        "given model. As input, it takes a PyTorch model, a dictionary of\n",
        "dataloaders, a loss function, an optimizer, a specified number of epochs\n",
        "to train and validate for, and a boolean flag for when the model is an\n",
        "Inception model. The *is_inception* flag is used to accomodate the\n",
        "*Inception v3* model, as that architecture uses an auxiliary output and\n",
        "the overall model loss respects both the auxiliary output and the final\n",
        "output, as described\n",
        "`here <https://discuss.pytorch.org/t/how-to-optimize-inception-model-with-auxiliary-classifiers/7958>`__.\n",
        "The function trains for the specified number of epochs and after each\n",
        "epoch runs a full validation step. It also keeps track of the best\n",
        "performing model (in terms of validation accuracy), and at the end of\n",
        "training returns the best performing model. After each epoch, the\n",
        "training and validation accuracies are printed.\n",
        "\n",
        "\n"
      ]
    },
    {
      "cell_type": "code",
      "metadata": {
        "id": "wTJxrrm0nwQW",
        "colab_type": "code",
        "colab": {}
      },
      "source": [
        "def train_model(model, dataloaders, criterion, scheduler, optimizer, num_epochs=25, is_inception=False):\n",
        "    since = time.time()\n",
        "\n",
        "    val_acc_history = []\n",
        "    \n",
        "    best_model_wts = copy.deepcopy(model.state_dict())\n",
        "    best_acc = 0.0\n",
        "\n",
        "    for epoch in range(num_epochs):\n",
        "        since_epoch = time.time()\n",
        "        print('Epoch {}/{}'.format(epoch, num_epochs - 1))\n",
        "        print('-' * 10)\n",
        "\n",
        "        # Each epoch has a training and validation phase\n",
        "        for phase in ['train', 'val']:\n",
        "            if phase == 'train':\n",
        "                model.train()  # Set model to training mode\n",
        "  \n",
        "            else:\n",
        "                model.eval()   # Set model to evaluate mode\n",
        "\n",
        "            running_loss = 0.0\n",
        "            running_corrects = 0\n",
        "\n",
        "            # Iterate over data.\n",
        "            for inputs, labels in dataloaders[phase]:\n",
        "                inputs = inputs.to(device)\n",
        "                labels = labels.to(device)\n",
        "\n",
        "                # zero the parameter gradients\n",
        "                optimizer.zero_grad()\n",
        "\n",
        "                # forward\n",
        "                # track history if only in train\n",
        "                with torch.set_grad_enabled(phase == 'train'):\n",
        "                    outputs = model(inputs)\n",
        "                    _, preds = torch.max(outputs, 1)\n",
        "                    loss = criterion(outputs, labels)\n",
        "\n",
        "                    # backward + optimize only if in training phase\n",
        "                    if phase == 'train':\n",
        "                        loss.backward()\n",
        "                        optimizer.step()\n",
        "                 \n",
        "                # statistics\n",
        "                running_loss += loss.item() * inputs.size(0)\n",
        "                running_corrects += torch.sum(preds == labels.data)\n",
        "\n",
        "            if phase == 'train':\n",
        "                scheduler.step()\n",
        "\n",
        "            epoch_loss = running_loss / len(dataloaders[phase].dataset)\n",
        "            epoch_acc = running_corrects.double() / len(dataloaders[phase].dataset)\n",
        "            \n",
        "            time_elapsed_epoch = time.time() - since_epoch\n",
        "            print('Epoch complete in {:.0f}m {:.0f}s'.format(time_elapsed_epoch // 60, time_elapsed_epoch % 60))\n",
        "            print('{} Loss: {:.4f} Acc: {:.4f}'.format(phase, epoch_loss, epoch_acc))\n",
        "            \n",
        "            # Write in csv training infos\n",
        "            row = [phase, epoch_loss, epoch_acc]\n",
        "            with open(CSV_TRAIN_DIR + '/train_val_phase.csv', 'a') as csvFile:\n",
        "                writer = csv.writer(csvFile)\n",
        "                writer.writerow(row)\n",
        "                                                             \n",
        "            csvFile.close()\n",
        "\n",
        "            # deep copy the model\n",
        "            if phase == 'val' and epoch_acc > best_acc:\n",
        "                best_acc = epoch_acc\n",
        "                best_model_wts = copy.deepcopy(model.state_dict())\n",
        "                model.class_to_idx = image_datasets['train'].class_to_idx                                             \n",
        "                state = {\n",
        "                      'epoch': epoch,\n",
        "                      'arch': 'resnet152',\n",
        "                      'state_dict': model.state_dict(),\n",
        "                      'class_to_idx': model.class_to_idx,\n",
        "                      'optimizer': optimizer.state_dict(),\n",
        "                      }\n",
        "\n",
        "                torch.save(state, MODEL_SAVE_DIR + '/restnet_model152_trained_exp7.pt')\n",
        "                \n",
        "            if phase == 'val':\n",
        "                val_acc_history.append(epoch_acc)\n",
        "\n",
        "        print()\n",
        "\n",
        "    time_elapsed = time.time() - since\n",
        "    print('Training complete in {:.0f}m {:.0f}s'.format(time_elapsed // 60, time_elapsed % 60))\n",
        "    print('Best val Acc: {:4f}'.format(best_acc))\n",
        "\n",
        "    # load best model weights\n",
        "    model.load_state_dict(best_model_wts)\n",
        "    return model, val_acc_history"
      ],
      "execution_count": 0,
      "outputs": []
    },
    {
      "cell_type": "markdown",
      "metadata": {
        "id": "wXwoUbUjnwQY",
        "colab_type": "text"
      },
      "source": [
        "Set Model Parameters’ .requires_grad attribute\n",
        "~~~~~~~~~~~~~~~~~~~~~~~~~~~~~~~~~~~~~~~~~~~~~~\n",
        "\n",
        "This helper function sets the ``.requires_grad`` attribute of the\n",
        "parameters in the model to False when we are feature extracting. By\n",
        "default, when we load a pretrained model all of the parameters have\n",
        "``.requires_grad=True``, which is fine if we are training from scratch\n",
        "or finetuning. However, if we are feature extracting and only want to\n",
        "compute gradients for the newly initialized layer then we want all of\n",
        "the other parameters to not require gradients. This will make more sense\n",
        "later.\n",
        "\n",
        "\n"
      ]
    },
    {
      "cell_type": "code",
      "metadata": {
        "id": "w2MnVUX4nwQa",
        "colab_type": "code",
        "colab": {}
      },
      "source": [
        "def set_parameter_requires_grad(model, feature_extracting):\n",
        "    if feature_extracting:\n",
        "        for param in model.parameters():\n",
        "            param.requires_grad = False"
      ],
      "execution_count": 0,
      "outputs": []
    },
    {
      "cell_type": "code",
      "metadata": {
        "id": "C8FO3KvqnwQk",
        "colab_type": "code",
        "colab": {}
      },
      "source": [
        "def initialize_model(model_name, num_classes, feature_extract, use_pretrained=True):\n",
        "    # Initialize these variables which will be set in this if statement. Each of these\n",
        "    #   variables is model specific.\n",
        "    model_ft = None\n",
        "    input_size = 0\n",
        "\n",
        "    if model_name == \"resnet\":\n",
        "        \"\"\" Resnet152\n",
        "        \"\"\"\n",
        "        model_ft = models.resnet152(pretrained=use_pretrained)\n",
        "        set_parameter_requires_grad(model_ft, feature_extract)\n",
        "        num_ftrs = model_ft.fc.in_features\n",
        "        model_ft.fc = nn.Linear(num_ftrs, num_classes)\n",
        "        input_size = 448\n",
        "\n",
        "    elif model_name == \"vgg\":\n",
        "        \"\"\" VGG11_bn\n",
        "        \"\"\"\n",
        "        model_ft = models.vgg11_bn(pretrained=use_pretrained)\n",
        "        set_parameter_requires_grad(model_ft, feature_extract)\n",
        "        num_ftrs = model_ft.classifier[6].in_features\n",
        "        model_ft.classifier[6] = nn.Linear(num_ftrs,num_classes)\n",
        "        input_size = 224\n",
        "\n",
        "\n",
        "    else:\n",
        "        print(\"Invalid model name, exiting...\")\n",
        "        exit()\n",
        "    \n",
        "    return model_ft, input_size\n",
        "\n",
        "# Initialize the model for this run\n",
        "model_ft, input_size = initialize_model(model_name, num_classes, feature_extract, use_pretrained=True)\n",
        "\n",
        "# Print the model we just instantiated\n",
        "# print(model_ft)"
      ],
      "execution_count": 0,
      "outputs": []
    },
    {
      "cell_type": "markdown",
      "metadata": {
        "id": "rH6Xq9YJnwQp",
        "colab_type": "text"
      },
      "source": [
        "Load Data\n",
        "---------\n",
        "\n",
        "Now that we know what the input size must be, we can initialize the data\n",
        "transforms, image datasets, and the dataloaders. Notice, the models were\n",
        "pretrained with the hard-coded normalization values, as described\n",
        "`here <https://pytorch.org/docs/master/torchvision/models.html>`__.\n",
        "\n",
        "\n"
      ]
    },
    {
      "cell_type": "code",
      "metadata": {
        "id": "sKAmuilBnwQr",
        "colab_type": "code",
        "outputId": "607cafaa-c7fe-40da-e88f-0a2bac930eef",
        "colab": {
          "base_uri": "https://localhost:8080/",
          "height": 35
        }
      },
      "source": [
        "# Data augmentation and normalization for training\n",
        "# Just normalization for validation\n",
        "data_transforms = {\n",
        "    'train': transforms.Compose([\n",
        "        transforms.Resize(224),\n",
        "        transforms.ToTensor(),\n",
        "        transforms.Normalize([0.485, 0.456, 0.406], [0.229, 0.224, 0.225])\n",
        "    ]),\n",
        "    'val': transforms.Compose([\n",
        "        transforms.Resize(224),\n",
        "        transforms.ToTensor(),\n",
        "        transforms.Normalize([0.485, 0.456, 0.406], [0.229, 0.224, 0.225])\n",
        "    ]),\n",
        "}\n",
        "\n",
        "print(\"Initializing Datasets and Dataloaders...\")\n",
        "image_datasets = {x: datasets.ImageFolder(os.path.join(data_dir, x), data_transforms[x]) for x in ['train', 'val']}\n",
        "\n",
        "dataloaders_dict = {x: torch.utils.data.DataLoader(image_datasets[x], batch_size=batch_size, shuffle=True, num_workers=16) for x in ['train', 'val']}\n",
        "\n",
        "dataset_sizes = {x: len(image_datasets[x]) \n",
        "                              for x in ['train', 'val']}\n",
        "\n",
        "class_names = image_datasets['train'].classes\n",
        "\n",
        "# Detect if we have a GPU available\n",
        "device = torch.device(\"cuda:0\" if torch.cuda.is_available() else \"cpu\")"
      ],
      "execution_count": 0,
      "outputs": [
        {
          "output_type": "stream",
          "text": [
            "Initializing Datasets and Dataloaders...\n"
          ],
          "name": "stdout"
        }
      ]
    },
    {
      "cell_type": "markdown",
      "metadata": {
        "id": "s4j7y1AjpLAZ",
        "colab_type": "text"
      },
      "source": [
        "### Steps to train with TPU"
      ]
    },
    {
      "cell_type": "code",
      "metadata": {
        "id": "1RfOd-IQnYTe",
        "colab_type": "code",
        "colab": {}
      },
      "source": [
        "# DIST_BUCKET=\"gs://tpu-pytorch/wheels\"\n",
        "# TORCH_WHEEL=\"torch-1.15-cp36-cp36m-linux_x86_64.whl\"\n",
        "# TORCH_XLA_WHEEL=\"torch_xla-1.15-cp36-cp36m-linux_x86_64.whl\"\n",
        "# TORCHVISION_WHEEL=\"torchvision-0.3.0-cp36-cp36m-linux_x86_64.whl\"\n",
        "\n",
        "# # Install Colab TPU compat PyTorch/TPU wheels and dependencies\n",
        "# !pip uninstall -y torch torchvision\n",
        "# !gsutil cp \"$DIST_BUCKET/$TORCH_WHEEL\" .\n",
        "# !gsutil cp \"$DIST_BUCKET/$TORCH_XLA_WHEEL\" .\n",
        "# !gsutil cp \"$DIST_BUCKET/$TORCHVISION_WHEEL\" .\n",
        "# !pip install \"$TORCH_WHEEL\"\n",
        "# !pip install \"$TORCH_XLA_WHEEL\"\n",
        "# !pip install \"$TORCHVISION_WHEEL\"\n",
        "# !sudo apt-get install libomp5"
      ],
      "execution_count": 0,
      "outputs": []
    },
    {
      "cell_type": "code",
      "metadata": {
        "id": "yAaqCicuo0k9",
        "colab_type": "code",
        "colab": {}
      },
      "source": [
        "# import torch_xla.core.xla_model as xm\n",
        "\n",
        "# device = xm.xla_device()\n",
        "# device"
      ],
      "execution_count": 0,
      "outputs": []
    },
    {
      "cell_type": "markdown",
      "metadata": {
        "id": "JsEMDdocpSJt",
        "colab_type": "text"
      },
      "source": [
        "## See classes and total data size."
      ]
    },
    {
      "cell_type": "code",
      "metadata": {
        "id": "BGBRP3j5nwQw",
        "colab_type": "code",
        "outputId": "8e6f5faf-7a62-4da2-8c54-1bc3c554dc5f",
        "colab": {
          "base_uri": "https://localhost:8080/",
          "height": 179
        }
      },
      "source": [
        "class_names"
      ],
      "execution_count": 0,
      "outputs": [
        {
          "output_type": "execute_result",
          "data": {
            "text/plain": [
              "['actinic-keratosis',\n",
              " 'basal-cell-carcinoma',\n",
              " 'dermatofibroma',\n",
              " 'hemangioma',\n",
              " 'intraepithelial-carcinoma',\n",
              " 'malignant-melanoma',\n",
              " 'melanocytic-nevus',\n",
              " 'pyogenic-granuloma',\n",
              " 'squamous-cell-carcinoma']"
            ]
          },
          "metadata": {
            "tags": []
          },
          "execution_count": 46
        }
      ]
    },
    {
      "cell_type": "code",
      "metadata": {
        "id": "FaEtQ861nwQ0",
        "colab_type": "code",
        "outputId": "20c5f9a2-fd1a-4c7b-949f-8b7260b5ae19",
        "colab": {
          "base_uri": "https://localhost:8080/",
          "height": 35
        }
      },
      "source": [
        "dataset_sizes"
      ],
      "execution_count": 0,
      "outputs": [
        {
          "output_type": "execute_result",
          "data": {
            "text/plain": [
              "{'train': 75392, 'val': 14942}"
            ]
          },
          "metadata": {
            "tags": []
          },
          "execution_count": 47
        }
      ]
    },
    {
      "cell_type": "markdown",
      "metadata": {
        "id": "cxF1sPu7nwQ9",
        "colab_type": "text"
      },
      "source": [
        "Create the Optimizer\n",
        "--------------------\n",
        "\n",
        "Now that the model structure is correct, the final step for finetuning\n",
        "and feature extracting is to create an optimizer that only updates the\n",
        "desired parameters. Recall that after loading the pretrained model, but\n",
        "before reshaping, if ``feature_extract=True`` we manually set all of the\n",
        "parameter’s ``.requires_grad`` attributes to False. Then the\n",
        "reinitialized layer’s parameters have ``.requires_grad=True`` by\n",
        "default. So now we know that *all parameters that have\n",
        ".requires_grad=True should be optimized.* Next, we make a list of such\n",
        "parameters and input this list to the SGD algorithm constructor.\n",
        "\n",
        "To verify this, check out the printed parameters to learn. When\n",
        "finetuning, this list should be long and include all of the model\n",
        "parameters. However, when feature extracting this list should be short\n",
        "and only include the weights and biases of the reshaped layers.\n",
        "\n",
        "\n"
      ]
    },
    {
      "cell_type": "code",
      "metadata": {
        "id": "g0D1kGXbnwQ-",
        "colab_type": "code",
        "outputId": "34d32ec4-6372-49c7-e23f-9a6593da2fd0",
        "colab": {
          "base_uri": "https://localhost:8080/",
          "height": 1000
        }
      },
      "source": [
        "from torch.optim import lr_scheduler\n",
        "\n",
        "# Send the model to GPU\n",
        "model_ft = model_ft.to(device)\n",
        "\n",
        "# Gather the parameters to be optimized/updated in this run. If we are\n",
        "#  finetuning we will be updating all parameters. However, if we are \n",
        "#  doing feature extract method, we will only update the parameters\n",
        "#  that we have just initialized, i.e. the parameters with requires_grad\n",
        "#  is True.\n",
        "params_to_update = model_ft.parameters()\n",
        "print(\"Params to learn:\")\n",
        "if feature_extract:\n",
        "    params_to_update = []\n",
        "    for name,param in model_ft.named_parameters():\n",
        "        if param.requires_grad == True:\n",
        "            params_to_update.append(param)\n",
        "            print(\"\\t\",name)\n",
        "else:\n",
        "    for name,param in model_ft.named_parameters():\n",
        "        if param.requires_grad == True:\n",
        "            print(\"\\t\",name)\n",
        "\n",
        "# Observe that all parameters are being optimized\n",
        "# optimizer_ft = optim.SGD(params_to_update, lr=LR_CONST, momentum=MOMENTUM_COST)\n",
        "'''\n",
        "Decrease learning rate to 0.0005 and weight_decay to 1e-6 with SGD aptimz\n",
        "optimizer_ft = optim.SGD(params_to_update, lr=0.0005, weight_decay=0.000001 momentum=MOMENTUM_COST)\n",
        "'''\n",
        "optimizer_ft = optim.SGD(params_to_update, lr=0.01, weight_decay=0.00001, momentum=MOMENTUM_COST)\n",
        "# optimizer_ft = optim.RMSprop(params_to_update, lr=LR_CONST,eps=0.1, weight_decay=0.9, momentum=MOMENTUM_COST)\n",
        "exp_lr_scheduler = lr_scheduler.StepLR(optimizer_ft, step_size=STEP_SIZE_CONST, gamma=GAMMA_CONST)"
      ],
      "execution_count": 0,
      "outputs": [
        {
          "output_type": "stream",
          "text": [
            "Params to learn:\n",
            "\t conv1.weight\n",
            "\t bn1.weight\n",
            "\t bn1.bias\n",
            "\t layer1.0.conv1.weight\n",
            "\t layer1.0.bn1.weight\n",
            "\t layer1.0.bn1.bias\n",
            "\t layer1.0.conv2.weight\n",
            "\t layer1.0.bn2.weight\n",
            "\t layer1.0.bn2.bias\n",
            "\t layer1.0.conv3.weight\n",
            "\t layer1.0.bn3.weight\n",
            "\t layer1.0.bn3.bias\n",
            "\t layer1.0.downsample.0.weight\n",
            "\t layer1.0.downsample.1.weight\n",
            "\t layer1.0.downsample.1.bias\n",
            "\t layer1.1.conv1.weight\n",
            "\t layer1.1.bn1.weight\n",
            "\t layer1.1.bn1.bias\n",
            "\t layer1.1.conv2.weight\n",
            "\t layer1.1.bn2.weight\n",
            "\t layer1.1.bn2.bias\n",
            "\t layer1.1.conv3.weight\n",
            "\t layer1.1.bn3.weight\n",
            "\t layer1.1.bn3.bias\n",
            "\t layer1.2.conv1.weight\n",
            "\t layer1.2.bn1.weight\n",
            "\t layer1.2.bn1.bias\n",
            "\t layer1.2.conv2.weight\n",
            "\t layer1.2.bn2.weight\n",
            "\t layer1.2.bn2.bias\n",
            "\t layer1.2.conv3.weight\n",
            "\t layer1.2.bn3.weight\n",
            "\t layer1.2.bn3.bias\n",
            "\t layer2.0.conv1.weight\n",
            "\t layer2.0.bn1.weight\n",
            "\t layer2.0.bn1.bias\n",
            "\t layer2.0.conv2.weight\n",
            "\t layer2.0.bn2.weight\n",
            "\t layer2.0.bn2.bias\n",
            "\t layer2.0.conv3.weight\n",
            "\t layer2.0.bn3.weight\n",
            "\t layer2.0.bn3.bias\n",
            "\t layer2.0.downsample.0.weight\n",
            "\t layer2.0.downsample.1.weight\n",
            "\t layer2.0.downsample.1.bias\n",
            "\t layer2.1.conv1.weight\n",
            "\t layer2.1.bn1.weight\n",
            "\t layer2.1.bn1.bias\n",
            "\t layer2.1.conv2.weight\n",
            "\t layer2.1.bn2.weight\n",
            "\t layer2.1.bn2.bias\n",
            "\t layer2.1.conv3.weight\n",
            "\t layer2.1.bn3.weight\n",
            "\t layer2.1.bn3.bias\n",
            "\t layer2.2.conv1.weight\n",
            "\t layer2.2.bn1.weight\n",
            "\t layer2.2.bn1.bias\n",
            "\t layer2.2.conv2.weight\n",
            "\t layer2.2.bn2.weight\n",
            "\t layer2.2.bn2.bias\n",
            "\t layer2.2.conv3.weight\n",
            "\t layer2.2.bn3.weight\n",
            "\t layer2.2.bn3.bias\n",
            "\t layer2.3.conv1.weight\n",
            "\t layer2.3.bn1.weight\n",
            "\t layer2.3.bn1.bias\n",
            "\t layer2.3.conv2.weight\n",
            "\t layer2.3.bn2.weight\n",
            "\t layer2.3.bn2.bias\n",
            "\t layer2.3.conv3.weight\n",
            "\t layer2.3.bn3.weight\n",
            "\t layer2.3.bn3.bias\n",
            "\t layer2.4.conv1.weight\n",
            "\t layer2.4.bn1.weight\n",
            "\t layer2.4.bn1.bias\n",
            "\t layer2.4.conv2.weight\n",
            "\t layer2.4.bn2.weight\n",
            "\t layer2.4.bn2.bias\n",
            "\t layer2.4.conv3.weight\n",
            "\t layer2.4.bn3.weight\n",
            "\t layer2.4.bn3.bias\n",
            "\t layer2.5.conv1.weight\n",
            "\t layer2.5.bn1.weight\n",
            "\t layer2.5.bn1.bias\n",
            "\t layer2.5.conv2.weight\n",
            "\t layer2.5.bn2.weight\n",
            "\t layer2.5.bn2.bias\n",
            "\t layer2.5.conv3.weight\n",
            "\t layer2.5.bn3.weight\n",
            "\t layer2.5.bn3.bias\n",
            "\t layer2.6.conv1.weight\n",
            "\t layer2.6.bn1.weight\n",
            "\t layer2.6.bn1.bias\n",
            "\t layer2.6.conv2.weight\n",
            "\t layer2.6.bn2.weight\n",
            "\t layer2.6.bn2.bias\n",
            "\t layer2.6.conv3.weight\n",
            "\t layer2.6.bn3.weight\n",
            "\t layer2.6.bn3.bias\n",
            "\t layer2.7.conv1.weight\n",
            "\t layer2.7.bn1.weight\n",
            "\t layer2.7.bn1.bias\n",
            "\t layer2.7.conv2.weight\n",
            "\t layer2.7.bn2.weight\n",
            "\t layer2.7.bn2.bias\n",
            "\t layer2.7.conv3.weight\n",
            "\t layer2.7.bn3.weight\n",
            "\t layer2.7.bn3.bias\n",
            "\t layer3.0.conv1.weight\n",
            "\t layer3.0.bn1.weight\n",
            "\t layer3.0.bn1.bias\n",
            "\t layer3.0.conv2.weight\n",
            "\t layer3.0.bn2.weight\n",
            "\t layer3.0.bn2.bias\n",
            "\t layer3.0.conv3.weight\n",
            "\t layer3.0.bn3.weight\n",
            "\t layer3.0.bn3.bias\n",
            "\t layer3.0.downsample.0.weight\n",
            "\t layer3.0.downsample.1.weight\n",
            "\t layer3.0.downsample.1.bias\n",
            "\t layer3.1.conv1.weight\n",
            "\t layer3.1.bn1.weight\n",
            "\t layer3.1.bn1.bias\n",
            "\t layer3.1.conv2.weight\n",
            "\t layer3.1.bn2.weight\n",
            "\t layer3.1.bn2.bias\n",
            "\t layer3.1.conv3.weight\n",
            "\t layer3.1.bn3.weight\n",
            "\t layer3.1.bn3.bias\n",
            "\t layer3.2.conv1.weight\n",
            "\t layer3.2.bn1.weight\n",
            "\t layer3.2.bn1.bias\n",
            "\t layer3.2.conv2.weight\n",
            "\t layer3.2.bn2.weight\n",
            "\t layer3.2.bn2.bias\n",
            "\t layer3.2.conv3.weight\n",
            "\t layer3.2.bn3.weight\n",
            "\t layer3.2.bn3.bias\n",
            "\t layer3.3.conv1.weight\n",
            "\t layer3.3.bn1.weight\n",
            "\t layer3.3.bn1.bias\n",
            "\t layer3.3.conv2.weight\n",
            "\t layer3.3.bn2.weight\n",
            "\t layer3.3.bn2.bias\n",
            "\t layer3.3.conv3.weight\n",
            "\t layer3.3.bn3.weight\n",
            "\t layer3.3.bn3.bias\n",
            "\t layer3.4.conv1.weight\n",
            "\t layer3.4.bn1.weight\n",
            "\t layer3.4.bn1.bias\n",
            "\t layer3.4.conv2.weight\n",
            "\t layer3.4.bn2.weight\n",
            "\t layer3.4.bn2.bias\n",
            "\t layer3.4.conv3.weight\n",
            "\t layer3.4.bn3.weight\n",
            "\t layer3.4.bn3.bias\n",
            "\t layer3.5.conv1.weight\n",
            "\t layer3.5.bn1.weight\n",
            "\t layer3.5.bn1.bias\n",
            "\t layer3.5.conv2.weight\n",
            "\t layer3.5.bn2.weight\n",
            "\t layer3.5.bn2.bias\n",
            "\t layer3.5.conv3.weight\n",
            "\t layer3.5.bn3.weight\n",
            "\t layer3.5.bn3.bias\n",
            "\t layer3.6.conv1.weight\n",
            "\t layer3.6.bn1.weight\n",
            "\t layer3.6.bn1.bias\n",
            "\t layer3.6.conv2.weight\n",
            "\t layer3.6.bn2.weight\n",
            "\t layer3.6.bn2.bias\n",
            "\t layer3.6.conv3.weight\n",
            "\t layer3.6.bn3.weight\n",
            "\t layer3.6.bn3.bias\n",
            "\t layer3.7.conv1.weight\n",
            "\t layer3.7.bn1.weight\n",
            "\t layer3.7.bn1.bias\n",
            "\t layer3.7.conv2.weight\n",
            "\t layer3.7.bn2.weight\n",
            "\t layer3.7.bn2.bias\n",
            "\t layer3.7.conv3.weight\n",
            "\t layer3.7.bn3.weight\n",
            "\t layer3.7.bn3.bias\n",
            "\t layer3.8.conv1.weight\n",
            "\t layer3.8.bn1.weight\n",
            "\t layer3.8.bn1.bias\n",
            "\t layer3.8.conv2.weight\n",
            "\t layer3.8.bn2.weight\n",
            "\t layer3.8.bn2.bias\n",
            "\t layer3.8.conv3.weight\n",
            "\t layer3.8.bn3.weight\n",
            "\t layer3.8.bn3.bias\n",
            "\t layer3.9.conv1.weight\n",
            "\t layer3.9.bn1.weight\n",
            "\t layer3.9.bn1.bias\n",
            "\t layer3.9.conv2.weight\n",
            "\t layer3.9.bn2.weight\n",
            "\t layer3.9.bn2.bias\n",
            "\t layer3.9.conv3.weight\n",
            "\t layer3.9.bn3.weight\n",
            "\t layer3.9.bn3.bias\n",
            "\t layer3.10.conv1.weight\n",
            "\t layer3.10.bn1.weight\n",
            "\t layer3.10.bn1.bias\n",
            "\t layer3.10.conv2.weight\n",
            "\t layer3.10.bn2.weight\n",
            "\t layer3.10.bn2.bias\n",
            "\t layer3.10.conv3.weight\n",
            "\t layer3.10.bn3.weight\n",
            "\t layer3.10.bn3.bias\n",
            "\t layer3.11.conv1.weight\n",
            "\t layer3.11.bn1.weight\n",
            "\t layer3.11.bn1.bias\n",
            "\t layer3.11.conv2.weight\n",
            "\t layer3.11.bn2.weight\n",
            "\t layer3.11.bn2.bias\n",
            "\t layer3.11.conv3.weight\n",
            "\t layer3.11.bn3.weight\n",
            "\t layer3.11.bn3.bias\n",
            "\t layer3.12.conv1.weight\n",
            "\t layer3.12.bn1.weight\n",
            "\t layer3.12.bn1.bias\n",
            "\t layer3.12.conv2.weight\n",
            "\t layer3.12.bn2.weight\n",
            "\t layer3.12.bn2.bias\n",
            "\t layer3.12.conv3.weight\n",
            "\t layer3.12.bn3.weight\n",
            "\t layer3.12.bn3.bias\n",
            "\t layer3.13.conv1.weight\n",
            "\t layer3.13.bn1.weight\n",
            "\t layer3.13.bn1.bias\n",
            "\t layer3.13.conv2.weight\n",
            "\t layer3.13.bn2.weight\n",
            "\t layer3.13.bn2.bias\n",
            "\t layer3.13.conv3.weight\n",
            "\t layer3.13.bn3.weight\n",
            "\t layer3.13.bn3.bias\n",
            "\t layer3.14.conv1.weight\n",
            "\t layer3.14.bn1.weight\n",
            "\t layer3.14.bn1.bias\n",
            "\t layer3.14.conv2.weight\n",
            "\t layer3.14.bn2.weight\n",
            "\t layer3.14.bn2.bias\n",
            "\t layer3.14.conv3.weight\n",
            "\t layer3.14.bn3.weight\n",
            "\t layer3.14.bn3.bias\n",
            "\t layer3.15.conv1.weight\n",
            "\t layer3.15.bn1.weight\n",
            "\t layer3.15.bn1.bias\n",
            "\t layer3.15.conv2.weight\n",
            "\t layer3.15.bn2.weight\n",
            "\t layer3.15.bn2.bias\n",
            "\t layer3.15.conv3.weight\n",
            "\t layer3.15.bn3.weight\n",
            "\t layer3.15.bn3.bias\n",
            "\t layer3.16.conv1.weight\n",
            "\t layer3.16.bn1.weight\n",
            "\t layer3.16.bn1.bias\n",
            "\t layer3.16.conv2.weight\n",
            "\t layer3.16.bn2.weight\n",
            "\t layer3.16.bn2.bias\n",
            "\t layer3.16.conv3.weight\n",
            "\t layer3.16.bn3.weight\n",
            "\t layer3.16.bn3.bias\n",
            "\t layer3.17.conv1.weight\n",
            "\t layer3.17.bn1.weight\n",
            "\t layer3.17.bn1.bias\n",
            "\t layer3.17.conv2.weight\n",
            "\t layer3.17.bn2.weight\n",
            "\t layer3.17.bn2.bias\n",
            "\t layer3.17.conv3.weight\n",
            "\t layer3.17.bn3.weight\n",
            "\t layer3.17.bn3.bias\n",
            "\t layer3.18.conv1.weight\n",
            "\t layer3.18.bn1.weight\n",
            "\t layer3.18.bn1.bias\n",
            "\t layer3.18.conv2.weight\n",
            "\t layer3.18.bn2.weight\n",
            "\t layer3.18.bn2.bias\n",
            "\t layer3.18.conv3.weight\n",
            "\t layer3.18.bn3.weight\n",
            "\t layer3.18.bn3.bias\n",
            "\t layer3.19.conv1.weight\n",
            "\t layer3.19.bn1.weight\n",
            "\t layer3.19.bn1.bias\n",
            "\t layer3.19.conv2.weight\n",
            "\t layer3.19.bn2.weight\n",
            "\t layer3.19.bn2.bias\n",
            "\t layer3.19.conv3.weight\n",
            "\t layer3.19.bn3.weight\n",
            "\t layer3.19.bn3.bias\n",
            "\t layer3.20.conv1.weight\n",
            "\t layer3.20.bn1.weight\n",
            "\t layer3.20.bn1.bias\n",
            "\t layer3.20.conv2.weight\n",
            "\t layer3.20.bn2.weight\n",
            "\t layer3.20.bn2.bias\n",
            "\t layer3.20.conv3.weight\n",
            "\t layer3.20.bn3.weight\n",
            "\t layer3.20.bn3.bias\n",
            "\t layer3.21.conv1.weight\n",
            "\t layer3.21.bn1.weight\n",
            "\t layer3.21.bn1.bias\n",
            "\t layer3.21.conv2.weight\n",
            "\t layer3.21.bn2.weight\n",
            "\t layer3.21.bn2.bias\n",
            "\t layer3.21.conv3.weight\n",
            "\t layer3.21.bn3.weight\n",
            "\t layer3.21.bn3.bias\n",
            "\t layer3.22.conv1.weight\n",
            "\t layer3.22.bn1.weight\n",
            "\t layer3.22.bn1.bias\n",
            "\t layer3.22.conv2.weight\n",
            "\t layer3.22.bn2.weight\n",
            "\t layer3.22.bn2.bias\n",
            "\t layer3.22.conv3.weight\n",
            "\t layer3.22.bn3.weight\n",
            "\t layer3.22.bn3.bias\n",
            "\t layer3.23.conv1.weight\n",
            "\t layer3.23.bn1.weight\n",
            "\t layer3.23.bn1.bias\n",
            "\t layer3.23.conv2.weight\n",
            "\t layer3.23.bn2.weight\n",
            "\t layer3.23.bn2.bias\n",
            "\t layer3.23.conv3.weight\n",
            "\t layer3.23.bn3.weight\n",
            "\t layer3.23.bn3.bias\n",
            "\t layer3.24.conv1.weight\n",
            "\t layer3.24.bn1.weight\n",
            "\t layer3.24.bn1.bias\n",
            "\t layer3.24.conv2.weight\n",
            "\t layer3.24.bn2.weight\n",
            "\t layer3.24.bn2.bias\n",
            "\t layer3.24.conv3.weight\n",
            "\t layer3.24.bn3.weight\n",
            "\t layer3.24.bn3.bias\n",
            "\t layer3.25.conv1.weight\n",
            "\t layer3.25.bn1.weight\n",
            "\t layer3.25.bn1.bias\n",
            "\t layer3.25.conv2.weight\n",
            "\t layer3.25.bn2.weight\n",
            "\t layer3.25.bn2.bias\n",
            "\t layer3.25.conv3.weight\n",
            "\t layer3.25.bn3.weight\n",
            "\t layer3.25.bn3.bias\n",
            "\t layer3.26.conv1.weight\n",
            "\t layer3.26.bn1.weight\n",
            "\t layer3.26.bn1.bias\n",
            "\t layer3.26.conv2.weight\n",
            "\t layer3.26.bn2.weight\n",
            "\t layer3.26.bn2.bias\n",
            "\t layer3.26.conv3.weight\n",
            "\t layer3.26.bn3.weight\n",
            "\t layer3.26.bn3.bias\n",
            "\t layer3.27.conv1.weight\n",
            "\t layer3.27.bn1.weight\n",
            "\t layer3.27.bn1.bias\n",
            "\t layer3.27.conv2.weight\n",
            "\t layer3.27.bn2.weight\n",
            "\t layer3.27.bn2.bias\n",
            "\t layer3.27.conv3.weight\n",
            "\t layer3.27.bn3.weight\n",
            "\t layer3.27.bn3.bias\n",
            "\t layer3.28.conv1.weight\n",
            "\t layer3.28.bn1.weight\n",
            "\t layer3.28.bn1.bias\n",
            "\t layer3.28.conv2.weight\n",
            "\t layer3.28.bn2.weight\n",
            "\t layer3.28.bn2.bias\n",
            "\t layer3.28.conv3.weight\n",
            "\t layer3.28.bn3.weight\n",
            "\t layer3.28.bn3.bias\n",
            "\t layer3.29.conv1.weight\n",
            "\t layer3.29.bn1.weight\n",
            "\t layer3.29.bn1.bias\n",
            "\t layer3.29.conv2.weight\n",
            "\t layer3.29.bn2.weight\n",
            "\t layer3.29.bn2.bias\n",
            "\t layer3.29.conv3.weight\n",
            "\t layer3.29.bn3.weight\n",
            "\t layer3.29.bn3.bias\n",
            "\t layer3.30.conv1.weight\n",
            "\t layer3.30.bn1.weight\n",
            "\t layer3.30.bn1.bias\n",
            "\t layer3.30.conv2.weight\n",
            "\t layer3.30.bn2.weight\n",
            "\t layer3.30.bn2.bias\n",
            "\t layer3.30.conv3.weight\n",
            "\t layer3.30.bn3.weight\n",
            "\t layer3.30.bn3.bias\n",
            "\t layer3.31.conv1.weight\n",
            "\t layer3.31.bn1.weight\n",
            "\t layer3.31.bn1.bias\n",
            "\t layer3.31.conv2.weight\n",
            "\t layer3.31.bn2.weight\n",
            "\t layer3.31.bn2.bias\n",
            "\t layer3.31.conv3.weight\n",
            "\t layer3.31.bn3.weight\n",
            "\t layer3.31.bn3.bias\n",
            "\t layer3.32.conv1.weight\n",
            "\t layer3.32.bn1.weight\n",
            "\t layer3.32.bn1.bias\n",
            "\t layer3.32.conv2.weight\n",
            "\t layer3.32.bn2.weight\n",
            "\t layer3.32.bn2.bias\n",
            "\t layer3.32.conv3.weight\n",
            "\t layer3.32.bn3.weight\n",
            "\t layer3.32.bn3.bias\n",
            "\t layer3.33.conv1.weight\n",
            "\t layer3.33.bn1.weight\n",
            "\t layer3.33.bn1.bias\n",
            "\t layer3.33.conv2.weight\n",
            "\t layer3.33.bn2.weight\n",
            "\t layer3.33.bn2.bias\n",
            "\t layer3.33.conv3.weight\n",
            "\t layer3.33.bn3.weight\n",
            "\t layer3.33.bn3.bias\n",
            "\t layer3.34.conv1.weight\n",
            "\t layer3.34.bn1.weight\n",
            "\t layer3.34.bn1.bias\n",
            "\t layer3.34.conv2.weight\n",
            "\t layer3.34.bn2.weight\n",
            "\t layer3.34.bn2.bias\n",
            "\t layer3.34.conv3.weight\n",
            "\t layer3.34.bn3.weight\n",
            "\t layer3.34.bn3.bias\n",
            "\t layer3.35.conv1.weight\n",
            "\t layer3.35.bn1.weight\n",
            "\t layer3.35.bn1.bias\n",
            "\t layer3.35.conv2.weight\n",
            "\t layer3.35.bn2.weight\n",
            "\t layer3.35.bn2.bias\n",
            "\t layer3.35.conv3.weight\n",
            "\t layer3.35.bn3.weight\n",
            "\t layer3.35.bn3.bias\n",
            "\t layer4.0.conv1.weight\n",
            "\t layer4.0.bn1.weight\n",
            "\t layer4.0.bn1.bias\n",
            "\t layer4.0.conv2.weight\n",
            "\t layer4.0.bn2.weight\n",
            "\t layer4.0.bn2.bias\n",
            "\t layer4.0.conv3.weight\n",
            "\t layer4.0.bn3.weight\n",
            "\t layer4.0.bn3.bias\n",
            "\t layer4.0.downsample.0.weight\n",
            "\t layer4.0.downsample.1.weight\n",
            "\t layer4.0.downsample.1.bias\n",
            "\t layer4.1.conv1.weight\n",
            "\t layer4.1.bn1.weight\n",
            "\t layer4.1.bn1.bias\n",
            "\t layer4.1.conv2.weight\n",
            "\t layer4.1.bn2.weight\n",
            "\t layer4.1.bn2.bias\n",
            "\t layer4.1.conv3.weight\n",
            "\t layer4.1.bn3.weight\n",
            "\t layer4.1.bn3.bias\n",
            "\t layer4.2.conv1.weight\n",
            "\t layer4.2.bn1.weight\n",
            "\t layer4.2.bn1.bias\n",
            "\t layer4.2.conv2.weight\n",
            "\t layer4.2.bn2.weight\n",
            "\t layer4.2.bn2.bias\n",
            "\t layer4.2.conv3.weight\n",
            "\t layer4.2.bn3.weight\n",
            "\t layer4.2.bn3.bias\n",
            "\t fc.weight\n",
            "\t fc.bias\n"
          ],
          "name": "stdout"
        }
      ]
    },
    {
      "cell_type": "markdown",
      "metadata": {
        "id": "OxQ23hz5nwRD",
        "colab_type": "text"
      },
      "source": [
        "## If there is any previus trained model to continue to train "
      ]
    },
    {
      "cell_type": "code",
      "metadata": {
        "id": "ucR0Wy6knwRE",
        "colab_type": "code",
        "colab": {}
      },
      "source": [
        "# if PREVIUS_TRAINED_MODEL_DIR:\n",
        "#     if train_on_gpu:\n",
        "#         state = torch.load(PREVIUS_TRAINED_MODEL_DIR)\n",
        "#     else:\n",
        "#         state = torch.load(PREVIUS_TRAINED_MODEL_DIR, map_location='cpu')\n",
        "\n",
        "#     # Loading weights in restnet architecture\n",
        "#     model_ft.load_state_dict(state['state_dict'])"
      ],
      "execution_count": 0,
      "outputs": []
    },
    {
      "cell_type": "code",
      "metadata": {
        "id": "w_RyMqkJnwRH",
        "colab_type": "code",
        "outputId": "2ce7c665-cd37-4500-871c-d746f0973d11",
        "colab": {
          "base_uri": "https://localhost:8080/",
          "height": 53
        }
      },
      "source": [
        "# Find total parameters and trainable parameters\n",
        "total_params = sum(p.numel() for p in model_ft.parameters())\n",
        "print(f'{total_params:,} total parameters.')\n",
        "total_trainable_params = sum(\n",
        "    p.numel() for p in model_ft.parameters() if p.requires_grad)\n",
        "print(f'{total_trainable_params:,} training parameters.')"
      ],
      "execution_count": 0,
      "outputs": [
        {
          "output_type": "stream",
          "text": [
            "58,162,249 total parameters.\n",
            "58,162,249 training parameters.\n"
          ],
          "name": "stdout"
        }
      ]
    },
    {
      "cell_type": "markdown",
      "metadata": {
        "id": "WMRqbukynwRM",
        "colab_type": "text"
      },
      "source": [
        "Run Training and Validation Step\n",
        "--------------------------------\n",
        "\n",
        "Finally, the last step is to setup the loss for the model, then run the\n",
        "training and validation function for the set number of epochs. Notice,\n",
        "depending on the number of epochs this step may take a while on a CPU.\n",
        "Also, the default learning rate is not optimal for all of the models, so\n",
        "to achieve maximum accuracy it would be necessary to tune for each model\n",
        "separately.\n",
        "\n",
        "\n"
      ]
    },
    {
      "cell_type": "code",
      "metadata": {
        "id": "hoTWFMTLvfzI",
        "colab_type": "code",
        "outputId": "b562c488-c1ee-4a14-f19f-6ece82cd1359",
        "colab": {
          "base_uri": "https://localhost:8080/",
          "height": 1000
        }
      },
      "source": [
        "# Setup the loss fxn\n",
        "criterion = nn.CrossEntropyLoss()\n",
        "\n",
        "# Train and evaluate\n",
        "model_ft, hist = train_model(model_ft, dataloaders_dict, criterion, exp_lr_scheduler, optimizer_ft, num_epochs=num_epochs, is_inception=(model_name==\"inception\"))"
      ],
      "execution_count": 0,
      "outputs": [
        {
          "output_type": "stream",
          "text": [
            "Epoch 0/99\n",
            "----------\n",
            "Epoch complete in 70m 53s\n",
            "train Loss: 0.4543 Acc: 0.8448\n",
            "Epoch complete in 75m 6s\n",
            "val Loss: 1.3842 Acc: 0.6865\n",
            "\n",
            "Epoch 1/99\n",
            "----------\n",
            "Epoch complete in 70m 53s\n",
            "train Loss: 0.0340 Acc: 0.9884\n",
            "Epoch complete in 75m 4s\n",
            "val Loss: 1.2228 Acc: 0.7651\n",
            "\n",
            "Epoch 2/99\n",
            "----------\n",
            "Epoch complete in 70m 58s\n",
            "train Loss: 0.0158 Acc: 0.9943\n",
            "Epoch complete in 75m 10s\n",
            "val Loss: 1.2453 Acc: 0.7669\n",
            "\n",
            "Epoch 3/99\n",
            "----------\n",
            "Epoch complete in 70m 43s\n",
            "train Loss: 0.0142 Acc: 0.9949\n",
            "Epoch complete in 74m 55s\n",
            "val Loss: 1.2346 Acc: 0.7667\n",
            "\n",
            "Epoch 4/99\n",
            "----------\n",
            "Epoch complete in 70m 41s\n",
            "train Loss: 0.0147 Acc: 0.9944\n",
            "Epoch complete in 74m 51s\n",
            "val Loss: 1.2582 Acc: 0.7704\n",
            "\n",
            "Epoch 5/99\n",
            "----------\n",
            "Epoch complete in 70m 34s\n",
            "train Loss: 0.0143 Acc: 0.9945\n",
            "Epoch complete in 74m 45s\n",
            "val Loss: 1.2695 Acc: 0.7694\n",
            "\n",
            "Epoch 6/99\n",
            "----------\n"
          ],
          "name": "stdout"
        },
        {
          "output_type": "error",
          "ename": "KeyboardInterrupt",
          "evalue": "ignored",
          "traceback": [
            "\u001b[0;31m---------------------------------------------------------------------------\u001b[0m",
            "\u001b[0;31mKeyboardInterrupt\u001b[0m                         Traceback (most recent call last)",
            "\u001b[0;32m<ipython-input-51-84bfbe9e46d8>\u001b[0m in \u001b[0;36m<module>\u001b[0;34m()\u001b[0m\n\u001b[1;32m      2\u001b[0m \u001b[0;34m\u001b[0m\u001b[0m\n\u001b[1;32m      3\u001b[0m \u001b[0;31m# Train and evaluate\u001b[0m\u001b[0;34m\u001b[0m\u001b[0;34m\u001b[0m\u001b[0;34m\u001b[0m\u001b[0m\n\u001b[0;32m----> 4\u001b[0;31m \u001b[0mmodel_ft\u001b[0m\u001b[0;34m,\u001b[0m \u001b[0mhist\u001b[0m \u001b[0;34m=\u001b[0m \u001b[0mtrain_model\u001b[0m\u001b[0;34m(\u001b[0m\u001b[0mmodel_ft\u001b[0m\u001b[0;34m,\u001b[0m \u001b[0mdataloaders_dict\u001b[0m\u001b[0;34m,\u001b[0m \u001b[0mcriterion\u001b[0m\u001b[0;34m,\u001b[0m \u001b[0mexp_lr_scheduler\u001b[0m\u001b[0;34m,\u001b[0m \u001b[0moptimizer_ft\u001b[0m\u001b[0;34m,\u001b[0m \u001b[0mnum_epochs\u001b[0m\u001b[0;34m=\u001b[0m\u001b[0mnum_epochs\u001b[0m\u001b[0;34m,\u001b[0m \u001b[0mis_inception\u001b[0m\u001b[0;34m=\u001b[0m\u001b[0;34m(\u001b[0m\u001b[0mmodel_name\u001b[0m\u001b[0;34m==\u001b[0m\u001b[0;34m\"inception\"\u001b[0m\u001b[0;34m)\u001b[0m\u001b[0;34m)\u001b[0m\u001b[0;34m\u001b[0m\u001b[0;34m\u001b[0m\u001b[0m\n\u001b[0m",
            "\u001b[0;32m<ipython-input-17-26d0319c9522>\u001b[0m in \u001b[0;36mtrain_model\u001b[0;34m(model, dataloaders, criterion, scheduler, optimizer, num_epochs, is_inception)\u001b[0m\n\u001b[1;32m     40\u001b[0m                     \u001b[0;31m# backward + optimize only if in training phase\u001b[0m\u001b[0;34m\u001b[0m\u001b[0;34m\u001b[0m\u001b[0;34m\u001b[0m\u001b[0m\n\u001b[1;32m     41\u001b[0m                     \u001b[0;32mif\u001b[0m \u001b[0mphase\u001b[0m \u001b[0;34m==\u001b[0m \u001b[0;34m'train'\u001b[0m\u001b[0;34m:\u001b[0m\u001b[0;34m\u001b[0m\u001b[0;34m\u001b[0m\u001b[0m\n\u001b[0;32m---> 42\u001b[0;31m                         \u001b[0mloss\u001b[0m\u001b[0;34m.\u001b[0m\u001b[0mbackward\u001b[0m\u001b[0;34m(\u001b[0m\u001b[0;34m)\u001b[0m\u001b[0;34m\u001b[0m\u001b[0;34m\u001b[0m\u001b[0m\n\u001b[0m\u001b[1;32m     43\u001b[0m                         \u001b[0moptimizer\u001b[0m\u001b[0;34m.\u001b[0m\u001b[0mstep\u001b[0m\u001b[0;34m(\u001b[0m\u001b[0;34m)\u001b[0m\u001b[0;34m\u001b[0m\u001b[0;34m\u001b[0m\u001b[0m\n\u001b[1;32m     44\u001b[0m \u001b[0;34m\u001b[0m\u001b[0m\n",
            "\u001b[0;32m/usr/local/lib/python3.6/dist-packages/torch/tensor.py\u001b[0m in \u001b[0;36mbackward\u001b[0;34m(self, gradient, retain_graph, create_graph)\u001b[0m\n\u001b[1;32m    164\u001b[0m                 \u001b[0mproducts\u001b[0m\u001b[0;34m.\u001b[0m \u001b[0mDefaults\u001b[0m \u001b[0mto\u001b[0m\u001b[0;31m \u001b[0m\u001b[0;31m`\u001b[0m\u001b[0;31m`\u001b[0m\u001b[0;32mFalse\u001b[0m\u001b[0;31m`\u001b[0m\u001b[0;31m`\u001b[0m\u001b[0;34m.\u001b[0m\u001b[0;34m\u001b[0m\u001b[0;34m\u001b[0m\u001b[0m\n\u001b[1;32m    165\u001b[0m         \"\"\"\n\u001b[0;32m--> 166\u001b[0;31m         \u001b[0mtorch\u001b[0m\u001b[0;34m.\u001b[0m\u001b[0mautograd\u001b[0m\u001b[0;34m.\u001b[0m\u001b[0mbackward\u001b[0m\u001b[0;34m(\u001b[0m\u001b[0mself\u001b[0m\u001b[0;34m,\u001b[0m \u001b[0mgradient\u001b[0m\u001b[0;34m,\u001b[0m \u001b[0mretain_graph\u001b[0m\u001b[0;34m,\u001b[0m \u001b[0mcreate_graph\u001b[0m\u001b[0;34m)\u001b[0m\u001b[0;34m\u001b[0m\u001b[0;34m\u001b[0m\u001b[0m\n\u001b[0m\u001b[1;32m    167\u001b[0m \u001b[0;34m\u001b[0m\u001b[0m\n\u001b[1;32m    168\u001b[0m     \u001b[0;32mdef\u001b[0m \u001b[0mregister_hook\u001b[0m\u001b[0;34m(\u001b[0m\u001b[0mself\u001b[0m\u001b[0;34m,\u001b[0m \u001b[0mhook\u001b[0m\u001b[0;34m)\u001b[0m\u001b[0;34m:\u001b[0m\u001b[0;34m\u001b[0m\u001b[0;34m\u001b[0m\u001b[0m\n",
            "\u001b[0;32m/usr/local/lib/python3.6/dist-packages/torch/autograd/__init__.py\u001b[0m in \u001b[0;36mbackward\u001b[0;34m(tensors, grad_tensors, retain_graph, create_graph, grad_variables)\u001b[0m\n\u001b[1;32m     97\u001b[0m     Variable._execution_engine.run_backward(\n\u001b[1;32m     98\u001b[0m         \u001b[0mtensors\u001b[0m\u001b[0;34m,\u001b[0m \u001b[0mgrad_tensors\u001b[0m\u001b[0;34m,\u001b[0m \u001b[0mretain_graph\u001b[0m\u001b[0;34m,\u001b[0m \u001b[0mcreate_graph\u001b[0m\u001b[0;34m,\u001b[0m\u001b[0;34m\u001b[0m\u001b[0;34m\u001b[0m\u001b[0m\n\u001b[0;32m---> 99\u001b[0;31m         allow_unreachable=True)  # allow_unreachable flag\n\u001b[0m\u001b[1;32m    100\u001b[0m \u001b[0;34m\u001b[0m\u001b[0m\n\u001b[1;32m    101\u001b[0m \u001b[0;34m\u001b[0m\u001b[0m\n",
            "\u001b[0;31mKeyboardInterrupt\u001b[0m: "
          ]
        }
      ]
    }
  ]
}
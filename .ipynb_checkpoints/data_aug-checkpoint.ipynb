{
 "cells": [
  {
   "cell_type": "code",
   "execution_count": 0,
   "metadata": {
    "colab": {},
    "colab_type": "code",
    "id": "3SFH1bxsa8gi"
   },
   "outputs": [],
   "source": [
    "import Augmentor as aug\n",
    "import glob\n",
    "import os\n",
    "import numpy as np\n",
    "import cv2 \n",
    "import PIL\n",
    "from Augmentor.Operations import Operation"
   ]
  },
  {
   "cell_type": "code",
   "execution_count": 2,
   "metadata": {
    "colab": {
     "base_uri": "https://localhost:8080/",
     "height": 170
    },
    "colab_type": "code",
    "id": "4kTzOsdFce95",
    "outputId": "a111a86c-1e1f-46a9-8f71-7a73539bfe7f"
   },
   "outputs": [
    {
     "name": "stdout",
     "output_type": "stream",
     "text": [
      "Collecting Augmentor\n",
      "  Downloading https://files.pythonhosted.org/packages/c9/d2/05184ea0e0c12f85d68da7b96fd6c05f294862143758314fcb2a9951d338/Augmentor-0.2.6-py2.py3-none-any.whl\n",
      "Requirement already satisfied: future>=0.16.0 in /usr/local/lib/python3.6/dist-packages (from Augmentor) (0.16.0)\n",
      "Requirement already satisfied: numpy>=1.11.0 in /usr/local/lib/python3.6/dist-packages (from Augmentor) (1.16.5)\n",
      "Requirement already satisfied: tqdm>=4.9.0 in /usr/local/lib/python3.6/dist-packages (from Augmentor) (4.28.1)\n",
      "Requirement already satisfied: Pillow>=4.0.0 in /usr/local/lib/python3.6/dist-packages (from Augmentor) (4.3.0)\n",
      "Requirement already satisfied: olefile in /usr/local/lib/python3.6/dist-packages (from Pillow>=4.0.0->Augmentor) (0.46)\n",
      "Installing collected packages: Augmentor\n",
      "Successfully installed Augmentor-0.2.6\n"
     ]
    }
   ],
   "source": [
    "!pip install Augmentor"
   ]
  },
  {
   "cell_type": "markdown",
   "metadata": {
    "colab_type": "text",
    "id": "9NqvWaugfoUr"
   },
   "source": [
    "## Custom Lightning Class for the Data Augmentation using Augmentor Python's lib "
   ]
  },
  {
   "cell_type": "code",
   "execution_count": 0,
   "metadata": {
    "colab": {},
    "colab_type": "code",
    "id": "dx1ufndrf-5e"
   },
   "outputs": [],
   "source": [
    "class Lightning(Operation):\n",
    "  def __init__(self, probability, intensity_low=0.7, intensity_high=1.2):\n",
    "    Operation.__init__(self, probability)\n",
    "    # Init classes variables with default values \n",
    "    # Default values treshold intent to create a optimal range\n",
    "    # Imagens cant be too dark or too brigher\n",
    "    self.intensity_low = intensity_low\n",
    "    self.intensity_high = intensity_high\n",
    "\n",
    "  def perform_operation(self, images):\n",
    "    for i, image in enumerate(images):\n",
    "      image = np.array(image.convert('RGB'))\n",
    "      row, col, _ = image.shape\n",
    "      light_intensity = np.random.randint(int(self.intensity_low * 100),\n",
    "                                          int(self.intensity_high * 100))\n",
    "    \n",
    "      light_intensity /= 100\n",
    "\n",
    "      gaussian = 100 * np.random.random((row, col, 1))\n",
    "      gaussian = np.array(gaussian, dtype=np.uint8)\n",
    "      gaussian = np.concatenate((gaussian, gaussian, gaussian), axis=2)\n",
    "      image = cv2.addWeighted(image, light_intensity, gaussian, 0.25, 0)\n",
    "\n",
    "      image = PIL.Image.fromarray(image)\n",
    "      images[i] = image\n",
    "  \n",
    "    return images"
   ]
  },
  {
   "cell_type": "code",
   "execution_count": 0,
   "metadata": {
    "colab": {},
    "colab_type": "code",
    "id": "ff2vW0WLhADS"
   },
   "outputs": [],
   "source": [
    "# Multiplier used to set the final augmented images number\n",
    "MULTIPLIER = 29"
   ]
  },
  {
   "cell_type": "code",
   "execution_count": 0,
   "metadata": {
    "colab": {},
    "colab_type": "code",
    "id": "9l87H2T8hs8K"
   },
   "outputs": [],
   "source": [
    "# Default dir where we can find the train dataset\n",
    "TRAIN_DIRECTORY_DATASET = '../../../data/edited/Med_atlas_edin/train/*'"
   ]
  },
  {
   "cell_type": "markdown",
   "metadata": {
    "colab_type": "text",
    "id": "xZNXF-TriIyf"
   },
   "source": [
    "## Dataset classes accounting base on the diferent project folders\n",
    "\n",
    "Each folder containg imagens from a specific class"
   ]
  },
  {
   "cell_type": "code",
   "execution_count": 9,
   "metadata": {
    "colab": {
     "base_uri": "https://localhost:8080/",
     "height": 34
    },
    "colab_type": "code",
    "id": "wDbMDKgmiZZY",
    "outputId": "c53d7059-a43a-4828-aaa1-a5011a87e0e8"
   },
   "outputs": [
    {
     "name": "stdout",
     "output_type": "stream",
     "text": [
      "Classes found []\n"
     ]
    }
   ],
   "source": [
    "folders = []\n",
    "for f in glob.glob(TRAIN_DIRECTORY_DATASET):\n",
    "  if os.path.isdir(f):\n",
    "    folders.append(os.path.abspath(f))\n",
    "\n",
    "print('Classes found {}'.format([os.path.split(x)[1] for x in folders]))"
   ]
  },
  {
   "cell_type": "markdown",
   "metadata": {
    "colab_type": "text",
    "id": "dcmPQK5xjPyZ"
   },
   "source": [
    "## Creating a transformation's pipeline for each class in the train dataset"
   ]
  },
  {
   "cell_type": "code",
   "execution_count": 0,
   "metadata": {
    "colab": {},
    "colab_type": "code",
    "id": "Wg1UYdLPikJX"
   },
   "outputs": [],
   "source": [
    "# Dictionari to hold the abspath and class's name\n",
    "pipelines = {}"
   ]
  },
  {
   "cell_type": "code",
   "execution_count": 0,
   "metadata": {
    "colab": {},
    "colab_type": "code",
    "id": "bM-4PvC2jxTN"
   },
   "outputs": [],
   "source": [
    "for folder in folders:\n",
    "  pipelines[os.path.split(folder)[1]] = (aug.Pipeline(\n",
    "      source_directory=folder,\n",
    "      output_directory='resnet_augmented',\n",
    "      save_format='jpg'))"
   ]
  },
  {
   "cell_type": "markdown",
   "metadata": {
    "colab_type": "text",
    "id": "nUCykjcpkQxu"
   },
   "source": [
    "## Counting elements inside each class"
   ]
  },
  {
   "cell_type": "code",
   "execution_count": 0,
   "metadata": {
    "colab": {},
    "colab_type": "code",
    "id": "NHQm4zj6kMY7"
   },
   "outputs": [],
   "source": [
    "classes_count = []\n",
    "for p in pipelines.values():\n",
    "  print(\"Class '{}' has {} samples\".format(p.augmentor_images[0].class_label,\n",
    "                                           len(p.augmentor_images)))\n",
    "  \n",
    "  classes_count.append(len(p.augmentor_images))"
   ]
  },
  {
   "cell_type": "markdown",
   "metadata": {
    "colab_type": "text",
    "id": "I1EDdp4zmRY4"
   },
   "source": [
    "## Making pipeline transformations based on the following roles\n",
    "\n",
    "Table 1 - Based values for each kid of Transformation\n",
    "\n",
    "| Transformation     | Probability |\n",
    "|--------------------|-------------|\n",
    "| Rotation           | 0.5         |\n",
    "| Random Zoom        | 0.4         |\n",
    "| Flip Horizontally  | 0.7         |\n",
    "| Flip Vertically    | 0.5         |\n",
    "| Random Distortion  | 0.8         |\n",
    "| Lightning Variance | 0.5         |"
   ]
  },
  {
   "cell_type": "code",
   "execution_count": 0,
   "metadata": {
    "colab": {},
    "colab_type": "code",
    "id": "GbJdLBJpkkb0"
   },
   "outputs": [],
   "source": [
    "# Instantiating Lighthing Class with 50 % probability \n",
    "lightning = Lightning(probability=0.5)"
   ]
  },
  {
   "cell_type": "markdown",
   "metadata": {
    "colab_type": "text",
    "id": "zL48zqeqnkky"
   },
   "source": [
    "Creating the pipeline based on tables 1 probability's values"
   ]
  },
  {
   "cell_type": "code",
   "execution_count": 0,
   "metadata": {
    "colab": {},
    "colab_type": "code",
    "id": "FKdHaK5cnYuf"
   },
   "outputs": [],
   "source": [
    "for p in pipelines.values():\n",
    "  # 50 % of rotation the imagem with max left and max right\n",
    "  p.rotate(probability=0.5, max_left_rotation=10, max_right_rotation=10)\n",
    "  \n",
    "  # 40 % of zoom inside the imagem with a 90 % cover area\n",
    "  p.zoom_random(probability=0.4, percentage_area=0.9)\n",
    "  \n",
    "  # 70 % of mirror vertical imagem for 50 % left or rigth \n",
    "  p.flip_left_right(probability=0.7)\n",
    "\n",
    "  # 50 % of mirror horizontal\n",
    "  p.flip_top_bottom(probability=0.5)\n",
    "\n",
    "  # Appling some distortion in the imagem\n",
    "  p.random_distortion(probability=0.8, grid_width=5, grid_height=5, magnitude=15)\n",
    "  \n",
    "  # Custom lightning of 50 %\n",
    "  p.add_operation(lightning)\n",
    "\n",
    "  # Rezise all the imagens size for default restnet 224x224\n",
    "  p.resize(probability=1.0, width=224, height=224)"
   ]
  },
  {
   "cell_type": "markdown",
   "metadata": {
    "colab_type": "text",
    "id": "4dz7QRKopXPj"
   },
   "source": [
    "## Scaling by the multiplier factor"
   ]
  },
  {
   "cell_type": "code",
   "execution_count": 0,
   "metadata": {
    "colab": {},
    "colab_type": "code",
    "id": "UlISdXEGpG13"
   },
   "outputs": [],
   "source": [
    "# If a equal sampling of the lesions is needed\n",
    "# Mind that the final MULTIPLIER can scale many times if True\n",
    "SAME_SAMPLING = False\n",
    "for p in pipelines.values():\n",
    "  if SAME_SAMPLING:\n",
    "    diff = max(classes_count) - len(p.augmentor_images)\n",
    "    p.sample((len(p.augmentor_images) + diff)*MULTIPLIER + diff)\n",
    "  \n",
    "  else:\n",
    "    p.sample(len(p.augmentor_images)*MULTIPLIER)"
   ]
  },
  {
   "cell_type": "code",
   "execution_count": 0,
   "metadata": {
    "colab": {},
    "colab_type": "code",
    "id": "1o6DFqiVpj6K"
   },
   "outputs": [],
   "source": []
  }
 ],
 "metadata": {
  "colab": {
   "name": "data-aug.ipynb",
   "provenance": []
  },
  "kernelspec": {
   "display_name": "Python 3",
   "language": "python",
   "name": "python3"
  },
  "language_info": {
   "codemirror_mode": {
    "name": "ipython",
    "version": 3
   },
   "file_extension": ".py",
   "mimetype": "text/x-python",
   "name": "python",
   "nbconvert_exporter": "python",
   "pygments_lexer": "ipython3",
   "version": "3.6.8"
  }
 },
 "nbformat": 4,
 "nbformat_minor": 1
}
